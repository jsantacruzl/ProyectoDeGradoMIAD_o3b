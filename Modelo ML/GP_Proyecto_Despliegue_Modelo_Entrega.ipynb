{
 "cells": [
  {
   "cell_type": "markdown",
   "id": "38057627",
   "metadata": {},
   "source": [
    "# Implementación y Despliegue del modelo predictivo"
   ]
  },
  {
   "cell_type": "markdown",
   "id": "8955d72f",
   "metadata": {},
   "source": [
    "Se cargan las librerías necesarias"
   ]
  },
  {
   "cell_type": "code",
   "execution_count": 1,
   "id": "ac04c12c",
   "metadata": {},
   "outputs": [],
   "source": [
    "import pyodbc\n",
    "import pandas as pd\n",
    "import numpy as np\n",
    "import matplotlib.pyplot as plt\n",
    "import seaborn as sns\n",
    "from sodapy import Socrata\n",
    "\n",
    "\n",
    "import warnings\n",
    "warnings.filterwarnings('ignore')\n",
    "\n",
    "from sklearn.impute import KNNImputer\n",
    "from sklearn.preprocessing import OneHotEncoder\n",
    "from sklearn.preprocessing import StandardScaler\n",
    "from sklearn.decomposition import PCA\n",
    "from sklearn.linear_model import LogisticRegression\n",
    "from sklearn.ensemble import RandomForestClassifier\n",
    "from joblib import dump, load"
   ]
  },
  {
   "cell_type": "markdown",
   "id": "c6643084",
   "metadata": {},
   "source": [
    "## Cargando los datos"
   ]
  },
  {
   "cell_type": "code",
   "execution_count": 2,
   "id": "9d39e6c7",
   "metadata": {},
   "outputs": [],
   "source": [
    "def iniciarSesion():\n",
    "    server = 'tcp:Miadgpproyectofinal.database.windows.net' \n",
    "    database = 'DB_GP_PROYECTO' \n",
    "    username = 'admin_miad' \n",
    "    password = 'Abc123456789' \n",
    "    \n",
    "    cnxn = pyodbc.connect('DRIVER={ODBC Driver 17 for SQL Server};SERVER='+server+';DATABASE='+database+';UID='+username+';PWD='+ password)\n",
    "    cursor = cnxn.cursor()\n",
    "    \n",
    "    return cnxn, cursor"
   ]
  },
  {
   "cell_type": "code",
   "execution_count": 3,
   "id": "c15515f5",
   "metadata": {},
   "outputs": [],
   "source": [
    "def cerrarCursor(cursor):\n",
    "    try:\n",
    "        cursor.close()\n",
    "    except:\n",
    "        pass"
   ]
  },
  {
   "cell_type": "code",
   "execution_count": 9,
   "id": "36cc9076",
   "metadata": {},
   "outputs": [],
   "source": [
    "cnxn, cursor = iniciarSesion()"
   ]
  },
  {
   "cell_type": "code",
   "execution_count": 10,
   "id": "e0dfbb86",
   "metadata": {},
   "outputs": [],
   "source": [
    "sql = \"\"\"\n",
    "SELECT *\n",
    "FROM Prod_SabanaAnalitica\n",
    "\"\"\""
   ]
  },
  {
   "cell_type": "code",
   "execution_count": 5,
   "id": "aa99e200",
   "metadata": {},
   "outputs": [
    {
     "data": {
      "text/html": [
       "<div>\n",
       "<style scoped>\n",
       "    .dataframe tbody tr th:only-of-type {\n",
       "        vertical-align: middle;\n",
       "    }\n",
       "\n",
       "    .dataframe tbody tr th {\n",
       "        vertical-align: top;\n",
       "    }\n",
       "\n",
       "    .dataframe thead th {\n",
       "        text-align: right;\n",
       "    }\n",
       "</style>\n",
       "<table border=\"1\" class=\"dataframe\">\n",
       "  <thead>\n",
       "    <tr style=\"text-align: right;\">\n",
       "      <th></th>\n",
       "      <th>Pro_Entidad</th>\n",
       "      <th>Pro_Nit Entidad</th>\n",
       "      <th>Pro_Departamento Entidad</th>\n",
       "      <th>Pro_Ciudad Entidad</th>\n",
       "      <th>Pro_OrdenEntidad</th>\n",
       "      <th>Pro_Entidad Centralizada</th>\n",
       "      <th>Pro_ID del Proceso</th>\n",
       "      <th>Pro_Referencia del Proceso</th>\n",
       "      <th>Pro_PCI</th>\n",
       "      <th>Pro_ID del Portafolio</th>\n",
       "      <th>...</th>\n",
       "      <th>Con_Valor Pendiente de Pago</th>\n",
       "      <th>Con_Valor Pagado</th>\n",
       "      <th>Con_Valor Amortizado</th>\n",
       "      <th>Con_Valor Pendiente de Amortizacion</th>\n",
       "      <th>Con_Valor Pendiente de Ejecucion</th>\n",
       "      <th>Con_Dias Adicionados</th>\n",
       "      <th>Con_Fecha Inicio Liquidacion</th>\n",
       "      <th>Con_Fecha Fin Liquidacion</th>\n",
       "      <th>Cat_Extraccion</th>\n",
       "      <th>FueMultado</th>\n",
       "    </tr>\n",
       "  </thead>\n",
       "  <tbody>\n",
       "    <tr>\n",
       "      <th>0</th>\n",
       "      <td>811021743</td>\n",
       "      <td>811021743</td>\n",
       "      <td>Antioquia</td>\n",
       "      <td>Medellín</td>\n",
       "      <td>Territorial</td>\n",
       "      <td>No</td>\n",
       "      <td>CO1.REQ.3314776</td>\n",
       "      <td>1127</td>\n",
       "      <td>ND</td>\n",
       "      <td>CO1.BDOS.3228167</td>\n",
       "      <td>...</td>\n",
       "      <td>NaN</td>\n",
       "      <td>NaN</td>\n",
       "      <td>NaN</td>\n",
       "      <td>NaN</td>\n",
       "      <td>NaN</td>\n",
       "      <td>NaN</td>\n",
       "      <td>NaN</td>\n",
       "      <td>NaN</td>\n",
       "      <td>Cruce Directo ProcesoContrato</td>\n",
       "      <td>0</td>\n",
       "    </tr>\n",
       "    <tr>\n",
       "      <th>1</th>\n",
       "      <td>811021743</td>\n",
       "      <td>811021743</td>\n",
       "      <td>Antioquia</td>\n",
       "      <td>Medellín</td>\n",
       "      <td>Territorial</td>\n",
       "      <td>No</td>\n",
       "      <td>CO1.REQ.3613724</td>\n",
       "      <td>1129</td>\n",
       "      <td>ND</td>\n",
       "      <td>CO1.BDOS.3520939</td>\n",
       "      <td>...</td>\n",
       "      <td>NaN</td>\n",
       "      <td>NaN</td>\n",
       "      <td>NaN</td>\n",
       "      <td>NaN</td>\n",
       "      <td>NaN</td>\n",
       "      <td>NaN</td>\n",
       "      <td>NaN</td>\n",
       "      <td>NaN</td>\n",
       "      <td>Cruce Directo ProcesoContrato</td>\n",
       "      <td>0</td>\n",
       "    </tr>\n",
       "    <tr>\n",
       "      <th>2</th>\n",
       "      <td>811021743</td>\n",
       "      <td>811021743</td>\n",
       "      <td>Antioquia</td>\n",
       "      <td>Medellín</td>\n",
       "      <td>Territorial</td>\n",
       "      <td>No</td>\n",
       "      <td>CO1.REQ.4355856</td>\n",
       "      <td>1139</td>\n",
       "      <td>ND</td>\n",
       "      <td>CO1.BDOS.4256735</td>\n",
       "      <td>...</td>\n",
       "      <td>NaN</td>\n",
       "      <td>NaN</td>\n",
       "      <td>NaN</td>\n",
       "      <td>NaN</td>\n",
       "      <td>NaN</td>\n",
       "      <td>NaN</td>\n",
       "      <td>NaN</td>\n",
       "      <td>NaN</td>\n",
       "      <td>Cruce Directo ProcesoContrato</td>\n",
       "      <td>0</td>\n",
       "    </tr>\n",
       "    <tr>\n",
       "      <th>3</th>\n",
       "      <td>ACUEDUCTO METROPOLITANO DE BUCARAMANGA SA ESP</td>\n",
       "      <td>8902001622</td>\n",
       "      <td>No Definido</td>\n",
       "      <td>No Definido</td>\n",
       "      <td>Territorial</td>\n",
       "      <td>Si</td>\n",
       "      <td>CO1.REQ.3648589</td>\n",
       "      <td>CO249-2022</td>\n",
       "      <td>ND</td>\n",
       "      <td>CO1.BDOS.3555063</td>\n",
       "      <td>...</td>\n",
       "      <td>NaN</td>\n",
       "      <td>NaN</td>\n",
       "      <td>NaN</td>\n",
       "      <td>NaN</td>\n",
       "      <td>NaN</td>\n",
       "      <td>NaN</td>\n",
       "      <td>NaN</td>\n",
       "      <td>NaN</td>\n",
       "      <td>Cruce Directo ProcesoContrato</td>\n",
       "      <td>0</td>\n",
       "    </tr>\n",
       "    <tr>\n",
       "      <th>4</th>\n",
       "      <td>ACUEDUCTO METROPOLITANO DE BUCARAMANGA SA ESP</td>\n",
       "      <td>8902001622</td>\n",
       "      <td>No Definido</td>\n",
       "      <td>No Definido</td>\n",
       "      <td>Territorial</td>\n",
       "      <td>Si</td>\n",
       "      <td>CO1.REQ.3775787</td>\n",
       "      <td>CO 293-22</td>\n",
       "      <td>ND</td>\n",
       "      <td>CO1.BDOS.3679782</td>\n",
       "      <td>...</td>\n",
       "      <td>NaN</td>\n",
       "      <td>NaN</td>\n",
       "      <td>NaN</td>\n",
       "      <td>NaN</td>\n",
       "      <td>NaN</td>\n",
       "      <td>NaN</td>\n",
       "      <td>NaN</td>\n",
       "      <td>NaN</td>\n",
       "      <td>Cruce Directo ProcesoContrato</td>\n",
       "      <td>0</td>\n",
       "    </tr>\n",
       "    <tr>\n",
       "      <th>...</th>\n",
       "      <td>...</td>\n",
       "      <td>...</td>\n",
       "      <td>...</td>\n",
       "      <td>...</td>\n",
       "      <td>...</td>\n",
       "      <td>...</td>\n",
       "      <td>...</td>\n",
       "      <td>...</td>\n",
       "      <td>...</td>\n",
       "      <td>...</td>\n",
       "      <td>...</td>\n",
       "      <td>...</td>\n",
       "      <td>...</td>\n",
       "      <td>...</td>\n",
       "      <td>...</td>\n",
       "      <td>...</td>\n",
       "      <td>...</td>\n",
       "      <td>...</td>\n",
       "      <td>...</td>\n",
       "      <td>...</td>\n",
       "      <td>...</td>\n",
       "    </tr>\n",
       "    <tr>\n",
       "      <th>46957</th>\n",
       "      <td>Universidad del Atlántico</td>\n",
       "      <td>890102257</td>\n",
       "      <td>Atlántico</td>\n",
       "      <td>Puerto Colombia</td>\n",
       "      <td>Nacional</td>\n",
       "      <td>Descentralizada</td>\n",
       "      <td>No Aplica</td>\n",
       "      <td>No Aplica</td>\n",
       "      <td>No Aplica</td>\n",
       "      <td>No Aplica</td>\n",
       "      <td>...</td>\n",
       "      <td>89804819.0</td>\n",
       "      <td>0.0</td>\n",
       "      <td>0.0</td>\n",
       "      <td>44902409.0</td>\n",
       "      <td>89804819.0</td>\n",
       "      <td>0.0</td>\n",
       "      <td>2023-04-30</td>\n",
       "      <td>2023-06-01</td>\n",
       "      <td>Inconsistencias de Proveedores</td>\n",
       "      <td>0</td>\n",
       "    </tr>\n",
       "    <tr>\n",
       "      <th>46958</th>\n",
       "      <td>Universidad del Atlántico</td>\n",
       "      <td>890102257</td>\n",
       "      <td>Atlántico</td>\n",
       "      <td>Puerto Colombia</td>\n",
       "      <td>Nacional</td>\n",
       "      <td>Descentralizada</td>\n",
       "      <td>No Aplica</td>\n",
       "      <td>No Aplica</td>\n",
       "      <td>No Aplica</td>\n",
       "      <td>No Aplica</td>\n",
       "      <td>...</td>\n",
       "      <td>227762890.0</td>\n",
       "      <td>0.0</td>\n",
       "      <td>0.0</td>\n",
       "      <td>113881445.0</td>\n",
       "      <td>227762890.0</td>\n",
       "      <td>0.0</td>\n",
       "      <td>2023-04-30</td>\n",
       "      <td>2023-05-31</td>\n",
       "      <td>Inconsistencias de Proveedores</td>\n",
       "      <td>0</td>\n",
       "    </tr>\n",
       "    <tr>\n",
       "      <th>46959</th>\n",
       "      <td>Universidad del Atlántico</td>\n",
       "      <td>890102257</td>\n",
       "      <td>Atlántico</td>\n",
       "      <td>Puerto Colombia</td>\n",
       "      <td>Nacional</td>\n",
       "      <td>Descentralizada</td>\n",
       "      <td>No Aplica</td>\n",
       "      <td>No Aplica</td>\n",
       "      <td>No Aplica</td>\n",
       "      <td>No Aplica</td>\n",
       "      <td>...</td>\n",
       "      <td>99890065.0</td>\n",
       "      <td>0.0</td>\n",
       "      <td>0.0</td>\n",
       "      <td>49945032.0</td>\n",
       "      <td>99890065.0</td>\n",
       "      <td>0.0</td>\n",
       "      <td>2022-04-30</td>\n",
       "      <td>2022-05-31</td>\n",
       "      <td>Inconsistencias de Proveedores</td>\n",
       "      <td>0</td>\n",
       "    </tr>\n",
       "    <tr>\n",
       "      <th>46960</th>\n",
       "      <td>Universidad del Atlántico</td>\n",
       "      <td>890102257</td>\n",
       "      <td>Atlántico</td>\n",
       "      <td>Puerto Colombia</td>\n",
       "      <td>Nacional</td>\n",
       "      <td>Descentralizada</td>\n",
       "      <td>No Aplica</td>\n",
       "      <td>No Aplica</td>\n",
       "      <td>No Aplica</td>\n",
       "      <td>No Aplica</td>\n",
       "      <td>...</td>\n",
       "      <td>299447468.0</td>\n",
       "      <td>0.0</td>\n",
       "      <td>0.0</td>\n",
       "      <td>0.0</td>\n",
       "      <td>299447468.0</td>\n",
       "      <td>0.0</td>\n",
       "      <td>2023-05-01</td>\n",
       "      <td>2023-06-01</td>\n",
       "      <td>Inconsistencias de Proveedores</td>\n",
       "      <td>0</td>\n",
       "    </tr>\n",
       "    <tr>\n",
       "      <th>46961</th>\n",
       "      <td>Universidad del Atlántico</td>\n",
       "      <td>890102257</td>\n",
       "      <td>Atlántico</td>\n",
       "      <td>Puerto Colombia</td>\n",
       "      <td>Nacional</td>\n",
       "      <td>Descentralizada</td>\n",
       "      <td>No Aplica</td>\n",
       "      <td>No Aplica</td>\n",
       "      <td>No Aplica</td>\n",
       "      <td>No Aplica</td>\n",
       "      <td>...</td>\n",
       "      <td>17612972.0</td>\n",
       "      <td>0.0</td>\n",
       "      <td>0.0</td>\n",
       "      <td>0.0</td>\n",
       "      <td>17612972.0</td>\n",
       "      <td>0.0</td>\n",
       "      <td>NaN</td>\n",
       "      <td>NaN</td>\n",
       "      <td>Inconsistencias de Proveedores</td>\n",
       "      <td>0</td>\n",
       "    </tr>\n",
       "  </tbody>\n",
       "</table>\n",
       "<p>46962 rows × 80 columns</p>\n",
       "</div>"
      ],
      "text/plain": [
       "                                         Pro_Entidad  Pro_Nit Entidad   \n",
       "0                                          811021743        811021743  \\\n",
       "1                                          811021743        811021743   \n",
       "2                                          811021743        811021743   \n",
       "3      ACUEDUCTO METROPOLITANO DE BUCARAMANGA SA ESP       8902001622   \n",
       "4      ACUEDUCTO METROPOLITANO DE BUCARAMANGA SA ESP       8902001622   \n",
       "...                                              ...              ...   \n",
       "46957                      Universidad del Atlántico        890102257   \n",
       "46958                      Universidad del Atlántico        890102257   \n",
       "46959                      Universidad del Atlántico        890102257   \n",
       "46960                      Universidad del Atlántico        890102257   \n",
       "46961                      Universidad del Atlántico        890102257   \n",
       "\n",
       "      Pro_Departamento Entidad Pro_Ciudad Entidad Pro_OrdenEntidad   \n",
       "0                    Antioquia           Medellín      Territorial  \\\n",
       "1                    Antioquia           Medellín      Territorial   \n",
       "2                    Antioquia           Medellín      Territorial   \n",
       "3                  No Definido        No Definido      Territorial   \n",
       "4                  No Definido        No Definido      Territorial   \n",
       "...                        ...                ...              ...   \n",
       "46957                Atlántico    Puerto Colombia         Nacional   \n",
       "46958                Atlántico    Puerto Colombia         Nacional   \n",
       "46959                Atlántico    Puerto Colombia         Nacional   \n",
       "46960                Atlántico    Puerto Colombia         Nacional   \n",
       "46961                Atlántico    Puerto Colombia         Nacional   \n",
       "\n",
       "      Pro_Entidad Centralizada Pro_ID del Proceso Pro_Referencia del Proceso   \n",
       "0                           No    CO1.REQ.3314776                       1127  \\\n",
       "1                           No    CO1.REQ.3613724                       1129   \n",
       "2                           No    CO1.REQ.4355856                       1139   \n",
       "3                           Si    CO1.REQ.3648589                 CO249-2022   \n",
       "4                           Si    CO1.REQ.3775787                  CO 293-22   \n",
       "...                        ...                ...                        ...   \n",
       "46957          Descentralizada          No Aplica                  No Aplica   \n",
       "46958          Descentralizada          No Aplica                  No Aplica   \n",
       "46959          Descentralizada          No Aplica                  No Aplica   \n",
       "46960          Descentralizada          No Aplica                  No Aplica   \n",
       "46961          Descentralizada          No Aplica                  No Aplica   \n",
       "\n",
       "         Pro_PCI Pro_ID del Portafolio  ... Con_Valor Pendiente de Pago   \n",
       "0             ND      CO1.BDOS.3228167  ...                         NaN  \\\n",
       "1             ND      CO1.BDOS.3520939  ...                         NaN   \n",
       "2             ND      CO1.BDOS.4256735  ...                         NaN   \n",
       "3             ND      CO1.BDOS.3555063  ...                         NaN   \n",
       "4             ND      CO1.BDOS.3679782  ...                         NaN   \n",
       "...          ...                   ...  ...                         ...   \n",
       "46957  No Aplica             No Aplica  ...                  89804819.0   \n",
       "46958  No Aplica             No Aplica  ...                 227762890.0   \n",
       "46959  No Aplica             No Aplica  ...                  99890065.0   \n",
       "46960  No Aplica             No Aplica  ...                 299447468.0   \n",
       "46961  No Aplica             No Aplica  ...                  17612972.0   \n",
       "\n",
       "      Con_Valor Pagado Con_Valor Amortizado   \n",
       "0                  NaN                  NaN  \\\n",
       "1                  NaN                  NaN   \n",
       "2                  NaN                  NaN   \n",
       "3                  NaN                  NaN   \n",
       "4                  NaN                  NaN   \n",
       "...                ...                  ...   \n",
       "46957              0.0                  0.0   \n",
       "46958              0.0                  0.0   \n",
       "46959              0.0                  0.0   \n",
       "46960              0.0                  0.0   \n",
       "46961              0.0                  0.0   \n",
       "\n",
       "      Con_Valor Pendiente de Amortizacion Con_Valor Pendiente de Ejecucion   \n",
       "0                                     NaN                              NaN  \\\n",
       "1                                     NaN                              NaN   \n",
       "2                                     NaN                              NaN   \n",
       "3                                     NaN                              NaN   \n",
       "4                                     NaN                              NaN   \n",
       "...                                   ...                              ...   \n",
       "46957                          44902409.0                       89804819.0   \n",
       "46958                         113881445.0                      227762890.0   \n",
       "46959                          49945032.0                       99890065.0   \n",
       "46960                                 0.0                      299447468.0   \n",
       "46961                                 0.0                       17612972.0   \n",
       "\n",
       "      Con_Dias Adicionados Con_Fecha Inicio Liquidacion   \n",
       "0                      NaN                          NaN  \\\n",
       "1                      NaN                          NaN   \n",
       "2                      NaN                          NaN   \n",
       "3                      NaN                          NaN   \n",
       "4                      NaN                          NaN   \n",
       "...                    ...                          ...   \n",
       "46957                  0.0                   2023-04-30   \n",
       "46958                  0.0                   2023-04-30   \n",
       "46959                  0.0                   2022-04-30   \n",
       "46960                  0.0                   2023-05-01   \n",
       "46961                  0.0                          NaN   \n",
       "\n",
       "       Con_Fecha Fin Liquidacion                  Cat_Extraccion FueMultado  \n",
       "0                            NaN   Cruce Directo ProcesoContrato          0  \n",
       "1                            NaN   Cruce Directo ProcesoContrato          0  \n",
       "2                            NaN   Cruce Directo ProcesoContrato          0  \n",
       "3                            NaN   Cruce Directo ProcesoContrato          0  \n",
       "4                            NaN   Cruce Directo ProcesoContrato          0  \n",
       "...                          ...                             ...        ...  \n",
       "46957                 2023-06-01  Inconsistencias de Proveedores          0  \n",
       "46958                 2023-05-31  Inconsistencias de Proveedores          0  \n",
       "46959                 2022-05-31  Inconsistencias de Proveedores          0  \n",
       "46960                 2023-06-01  Inconsistencias de Proveedores          0  \n",
       "46961                        NaN  Inconsistencias de Proveedores          0  \n",
       "\n",
       "[46962 rows x 80 columns]"
      ]
     },
     "execution_count": 5,
     "metadata": {},
     "output_type": "execute_result"
    }
   ],
   "source": [
    "df = pd.read_sql(sql,cnxn)\n",
    "df"
   ]
  },
  {
   "cell_type": "code",
   "execution_count": 81,
   "id": "4249e0cf",
   "metadata": {},
   "outputs": [],
   "source": [
    "df = pd.read_csv('sabana_completa.csv')"
   ]
  },
  {
   "cell_type": "markdown",
   "id": "01c91593",
   "metadata": {},
   "source": [
    "Arreglamos la variable de salida como 0 cuando viene de tipo Null"
   ]
  },
  {
   "cell_type": "code",
   "execution_count": 82,
   "id": "e09fe7c2",
   "metadata": {},
   "outputs": [],
   "source": [
    "df['FueMultado'] = df['FueMultado'].replace(np.nan, 0)\n",
    "df['FueMultado'] = df['FueMultado'].replace({'0': 0, 'Multado': 1})\n",
    "df['FueMultado'] = df['FueMultado'].astype('int64')"
   ]
  },
  {
   "cell_type": "markdown",
   "id": "247ff711",
   "metadata": {},
   "source": [
    "Partimos los datos en set de entrenamiento como todos los proyectos anteriores a 2023 y como set de validación los proyectos de 2023 en adelante"
   ]
  },
  {
   "cell_type": "code",
   "execution_count": 83,
   "id": "2ee615b0",
   "metadata": {},
   "outputs": [],
   "source": [
    "df_train = df\n",
    "df_train['Pro_Fecha de Publicacion del Proceso']= pd.to_datetime(df_train['Pro_Fecha de Publicacion del Proceso'])\n",
    "df_train['Year'] = df_train['Pro_Fecha de Publicacion del Proceso'].dt.strftime('%Y')\n",
    "df_train['Year'] = df_train['Year'].fillna(0)\n",
    "df_train['Year'] = df_train['Year'].astype('int')\n",
    "df_test = df_train[df_train['Year'] >= 2023]\n",
    "df_train = df_train[df_train['Year'] < 2023]"
   ]
  },
  {
   "cell_type": "markdown",
   "id": "898f4cf2",
   "metadata": {},
   "source": [
    "Revisamos que la base se encuentre en igualdad de dimensiones contra la que se tiene en la BD"
   ]
  },
  {
   "cell_type": "code",
   "execution_count": 84,
   "id": "a033f8c8",
   "metadata": {
    "scrolled": false
   },
   "outputs": [
    {
     "name": "stdout",
     "output_type": "stream",
     "text": [
      "El DataFrame tiene 46962 filas y 81 columnas.\n",
      "El DataFrame de entrenamiento tiene 43714 filas y 81 columnas.\n",
      "El DataFrame de validación tiene 3248 filas y 81 columnas.\n"
     ]
    }
   ],
   "source": [
    "num_filas = df.shape[0]\n",
    "num_columnas = df.shape[1]\n",
    "print(\"El DataFrame tiene\", num_filas, \"filas y\", num_columnas, \"columnas.\")\n",
    "num_filas = df_train.shape[0]\n",
    "num_columnas = df_train.shape[1]\n",
    "print(\"El DataFrame de entrenamiento tiene\", num_filas, \"filas y\", num_columnas, \"columnas.\")\n",
    "num_filas = df_test.shape[0]\n",
    "num_columnas = df_test.shape[1]\n",
    "print(\"El DataFrame de validación tiene\", num_filas, \"filas y\", num_columnas, \"columnas.\")"
   ]
  },
  {
   "cell_type": "markdown",
   "id": "6f9ee211",
   "metadata": {},
   "source": [
    "Seleccionamos las columnas a utilizar en el ejercicio"
   ]
  },
  {
   "cell_type": "code",
   "execution_count": 85,
   "id": "63db01b6",
   "metadata": {},
   "outputs": [],
   "source": [
    "cols_filt = ['Pro_Entidad', 'Pro_Nit Entidad', 'Pro_Departamento Entidad',\n",
    "       'Pro_Ciudad Entidad', 'Pro_OrdenEntidad', 'Pro_Entidad Centralizada',\n",
    "       'Pro_ID del Proceso', 'Pro_Referencia del Proceso', 'Pro_PCI',\n",
    "       'Pro_ID del Portafolio', 'Pro_Nombre del Procedimiento', 'Pro_Fase',\n",
    "       'Pro_Fecha de Publicacion del Proceso',\n",
    "       'Pro_Fecha de Ultima Publicación', 'Pro_Precio Base',\n",
    "       'Pro_Modalidad de Contratacion',\n",
    "       'Pro_Justificación Modalidad de Contratación', 'Pro_Duracion',\n",
    "       'Pro_Unidad de Duracion', 'Pro_Ciudad de la Unidad de Contratación',\n",
    "       'Pro_Nombre de la Unidad de Contratación', 'Pro_Proveedores Invitados',\n",
    "       'Pro_Proveedores con Invitacion Directa',\n",
    "       'Pro_Visualizaciones del Procedimiento',\n",
    "       'Pro_Proveedores que Manifestaron Interes',\n",
    "       'Pro_Respuestas al Procedimiento', 'Pro_Respuestas Externas',\n",
    "       'Pro_Conteo de Respuestas a Ofertas',\n",
    "       'Pro_Proveedores Unicos con Respuestas', 'Pro_Numero de Lotes',\n",
    "       'Pro_Estado del Procedimiento', 'Pro_ID Estado del Procedimiento',\n",
    "       'Pro_Adjudicado', 'Pro_ID Adjudicacion', 'Pro_CodigoProveedor',\n",
    "       'Pro_Departamento Proveedor', 'Pro_Ciudad Proveedor',\n",
    "       'Pro_Valor Total Adjudicacion', 'Pro_Nombre del Adjudicador',\n",
    "       'Pro_Nombre del Proveedor Adjudicado',\n",
    "       'Pro_NIT del Proveedor Adjudicado', 'Pro_Codigo Principal de Categoria',\n",
    "       'Pro_Estado de Apertura del Proceso', 'Pro_Tipo de Contrato',\n",
    "       'Pro_Subtipo de Contrato', 'Pro_URLProceso', 'Pro_Codigo Entidad',\n",
    "       'Pro_Estado Resumen', 'Cat_Extraccion', 'FueMultado']\n",
    "\n",
    "df_train = df_train[cols_filt]\n",
    "df_test = df_test[cols_filt]\n",
    "\n",
    "cat_cols = ['Pro_Departamento Entidad', 'Pro_OrdenEntidad', 'Pro_Entidad Centralizada', 'Pro_Fase', 'Pro_Modalidad de Contratacion', 'Pro_Justificación Modalidad de Contratación', 'Pro_Unidad de Duracion', 'Pro_Estado del Procedimiento', 'Pro_Adjudicado', 'Pro_Departamento Proveedor', 'Pro_Estado de Apertura del Proceso', 'Pro_Tipo de Contrato', 'Pro_Subtipo de Contrato', 'Pro_Estado Resumen', 'Cat_Extraccion', 'FueMultado']\n",
    "num_cols = ['Pro_Nit Entidad', 'Pro_Precio Base', 'Pro_Duracion',\n",
    "       'Pro_Proveedores Invitados', 'Pro_Proveedores con Invitacion Directa',\n",
    "       'Pro_Visualizaciones del Procedimiento',\n",
    "       'Pro_Proveedores que Manifestaron Interes',\n",
    "       'Pro_Respuestas al Procedimiento', 'Pro_Respuestas Externas',\n",
    "       'Pro_Conteo de Respuestas a Ofertas',\n",
    "       'Pro_Proveedores Unicos con Respuestas', 'Pro_Numero de Lotes',\n",
    "       'Pro_ID Estado del Procedimiento', 'Pro_Valor Total Adjudicacion',\n",
    "       'Pro_Codigo Entidad']\n",
    "\n",
    "df_train_final = pd.concat([df_train[num_cols], df_train[cat_cols]], axis=1)\n",
    "df_test_final = pd.concat([df_test[num_cols], df_test[cat_cols]], axis=1)"
   ]
  },
  {
   "cell_type": "markdown",
   "id": "895f195b",
   "metadata": {},
   "source": [
    "Eliminamos unas columnas que no van a ser de utilidad para la predicción"
   ]
  },
  {
   "cell_type": "code",
   "execution_count": 86,
   "id": "b1ae7288",
   "metadata": {},
   "outputs": [],
   "source": [
    "df_train_final = df_train_final.drop('Pro_Modalidad de Contratacion', axis=1)\n",
    "df_train_final = df_train_final.drop('Pro_Unidad de Duracion', axis=1)\n",
    "df_test_final = df_test_final.drop('Pro_Modalidad de Contratacion', axis=1)\n",
    "df_test_final = df_test_final.drop('Pro_Unidad de Duracion', axis=1)\n",
    "# df_final = df_final.drop(['Pro_Fecha de Ultima Publicación', 'Pro_Fecha de Publicacion del Proceso'], axis=1)"
   ]
  },
  {
   "cell_type": "markdown",
   "id": "6c967be1",
   "metadata": {},
   "source": [
    "Hacemos el proceso de sacar los dummies para las variables categoricas, haciendo uso del modelo OH ya almacenado anteriormente"
   ]
  },
  {
   "cell_type": "code",
   "execution_count": 87,
   "id": "4b40de6f",
   "metadata": {},
   "outputs": [],
   "source": [
    "# dump(enc, 'encod_oh.joblib') # save the model"
   ]
  },
  {
   "cell_type": "code",
   "execution_count": 116,
   "id": "e1890faa",
   "metadata": {},
   "outputs": [],
   "source": [
    "# Seleccionar las columnas que son categóricas\n",
    "cat_cols = ['Pro_Departamento Entidad', 'Pro_OrdenEntidad', 'Pro_Entidad Centralizada', 'Pro_Fase', 'Pro_Justificación Modalidad de Contratación', 'Pro_Estado del Procedimiento', 'Pro_Adjudicado', 'Pro_Departamento Proveedor', 'Pro_Estado de Apertura del Proceso', 'Pro_Tipo de Contrato', 'Pro_Subtipo de Contrato', 'Pro_Estado Resumen', 'Cat_Extraccion']\n",
    "\n",
    "# one hot encoding\n",
    "enc = load('encod_oh.joblib')\n",
    "train_onehot = enc.transform(df_train_final[cat_cols])\n",
    "test_onehot = enc.transform(df_test_final[cat_cols])\n",
    "\n",
    "oh_df_train = pd.DataFrame(train_onehot)\n",
    "oh_df_test = pd.DataFrame(test_onehot)\n",
    "\n",
    "num_cols = ['Pro_Nit Entidad', 'Pro_Precio Base', 'Pro_Duracion',\n",
    "       'Pro_Proveedores Invitados', 'Pro_Proveedores con Invitacion Directa',\n",
    "       'Pro_Visualizaciones del Procedimiento',\n",
    "       'Pro_Proveedores que Manifestaron Interes',\n",
    "       'Pro_Respuestas al Procedimiento', 'Pro_Respuestas Externas',\n",
    "       'Pro_Conteo de Respuestas a Ofertas',\n",
    "       'Pro_Proveedores Unicos con Respuestas', 'Pro_Numero de Lotes',\n",
    "       'Pro_ID Estado del Procedimiento', 'Pro_Valor Total Adjudicacion',\n",
    "       'Pro_Codigo Entidad', 'FueMultado']\n",
    "\n",
    "numeric_df_train = df_train_final[num_cols]\n",
    "cols_names = list(numeric_df_train.columns) + list(oh_df_train.columns)\n",
    "numeric_df_test = df_test_final[num_cols]\n",
    "\n",
    "numeric_df_train.reset_index(drop=True, inplace=True)\n",
    "oh_df_train.reset_index(drop=True, inplace=True)\n",
    "new_df_train = pd.concat([numeric_df_train, oh_df_train], ignore_index=True, axis=1)\n",
    "new_df_train.columns = cols_names\n",
    "numeric_df_test.reset_index(drop=True, inplace=True)\n",
    "oh_df_test.reset_index(drop=True, inplace=True)\n",
    "new_df_test = pd.concat([numeric_df_test, oh_df_test], ignore_index=True, axis=1)\n",
    "new_df_test.columns = cols_names"
   ]
  },
  {
   "cell_type": "markdown",
   "id": "bef7294a",
   "metadata": {},
   "source": [
    "Hacemos imputación de datos para los valores nulos, debido a que estos no los puede interpretar el modelo final implementado en el desarrollo del proyecto."
   ]
  },
  {
   "cell_type": "code",
   "execution_count": 90,
   "id": "dcd38909",
   "metadata": {},
   "outputs": [],
   "source": [
    "# dump(imputer, 'imputer_ok.joblib') # save the model"
   ]
  },
  {
   "cell_type": "code",
   "execution_count": 119,
   "id": "9c7fdd26",
   "metadata": {},
   "outputs": [
    {
     "name": "stdout",
     "output_type": "stream",
     "text": [
      "inicia\n",
      "termina\n"
     ]
    }
   ],
   "source": [
    "# Construimos el modelo\n",
    "# imputer = KNNImputer(n_neighbors=5, weights=\"uniform\")\n",
    "new_df_train.columns = new_df_train.columns.astype(str)\n",
    "new_df_test.columns = new_df_test.columns.astype(str)\n",
    "\n",
    "X_new_df_train = new_df_train[new_df_train.columns.drop(['FueMultado'])]\n",
    "X_new_df_test = new_df_test[new_df_test.columns.drop(['FueMultado'])]\n",
    "\n",
    "imputer = load('imputer_ok.joblib')\n",
    "# new_df_2 = imputer.transform(new_df)\n",
    "print('inicia')\n",
    "X_new_train = imputer.transform(X_new_df_train)\n",
    "print('termina')"
   ]
  },
  {
   "cell_type": "code",
   "execution_count": 120,
   "id": "fed75c3f",
   "metadata": {},
   "outputs": [
    {
     "name": "stdout",
     "output_type": "stream",
     "text": [
      "inicia\n",
      "termina\n"
     ]
    }
   ],
   "source": [
    "print('inicia')\n",
    "X_new_test = imputer.transform(X_new_df_test)\n",
    "print('termina')"
   ]
  },
  {
   "cell_type": "code",
   "execution_count": 121,
   "id": "0021848e",
   "metadata": {},
   "outputs": [],
   "source": [
    "X_new_df_train = pd.DataFrame(X_new_train)\n",
    "X_new_df_test = pd.DataFrame(X_new_test)"
   ]
  },
  {
   "cell_type": "code",
   "execution_count": 124,
   "id": "c106e919",
   "metadata": {},
   "outputs": [],
   "source": [
    "X_new_df_train['FueMultado'] = new_df_train['FueMultado']\n",
    "X_new_df_test['FueMultado'] = new_df_test['FueMultado']"
   ]
  },
  {
   "cell_type": "code",
   "execution_count": 127,
   "id": "01b54f75",
   "metadata": {},
   "outputs": [],
   "source": [
    "X_new_df_train.to_csv('sabana_completa_imputada_todo_train.csv')\n",
    "X_new_df_test.to_csv('sabana_completa_imputada_todo_test.csv')"
   ]
  },
  {
   "cell_type": "code",
   "execution_count": 128,
   "id": "f8174d11",
   "metadata": {},
   "outputs": [],
   "source": [
    "X_train = X_new_df_train[X_new_df_train.columns.drop(['FueMultado'])]\n",
    "y_train = X_new_df_train['FueMultado']\n",
    "\n",
    "X_test = X_new_df_test[X_new_df_test.columns.drop(['FueMultado'])]\n",
    "y_test = X_new_df_test['FueMultado']"
   ]
  },
  {
   "cell_type": "code",
   "execution_count": 129,
   "id": "164eb608",
   "metadata": {},
   "outputs": [
    {
     "data": {
      "text/plain": [
       "(43714, 147)"
      ]
     },
     "execution_count": 129,
     "metadata": {},
     "output_type": "execute_result"
    }
   ],
   "source": [
    "X_train.shape"
   ]
  },
  {
   "cell_type": "code",
   "execution_count": 130,
   "id": "d5e44d99",
   "metadata": {},
   "outputs": [
    {
     "data": {
      "text/plain": [
       "(3248, 147)"
      ]
     },
     "execution_count": 130,
     "metadata": {},
     "output_type": "execute_result"
    }
   ],
   "source": [
    "X_test.shape"
   ]
  },
  {
   "cell_type": "code",
   "execution_count": 131,
   "id": "04ed7385",
   "metadata": {},
   "outputs": [
    {
     "data": {
      "text/plain": [
       "(43714,)"
      ]
     },
     "execution_count": 131,
     "metadata": {},
     "output_type": "execute_result"
    }
   ],
   "source": [
    "y_train.shape"
   ]
  },
  {
   "cell_type": "code",
   "execution_count": 33,
   "id": "ae2f4fe3",
   "metadata": {},
   "outputs": [
    {
     "data": {
      "text/plain": [
       "['scaler_ok.joblib']"
      ]
     },
     "execution_count": 33,
     "metadata": {},
     "output_type": "execute_result"
    }
   ],
   "source": [
    "# dump(scaler, 'scaler_ok.joblib') # save the model"
   ]
  },
  {
   "cell_type": "code",
   "execution_count": 132,
   "id": "abef9af8",
   "metadata": {},
   "outputs": [],
   "source": [
    "# scaler = StandardScaler()\n",
    "scaler = load('scaler_ok.joblib')\n",
    "X_scaled_train = scaler.transform(X_train)\n",
    "X_scaled_train = pd.DataFrame(X_scaled_train)\n",
    "\n",
    "X_scaled_test = scaler.transform(X_test)\n",
    "X_scaled_test = pd.DataFrame(X_scaled_test)"
   ]
  },
  {
   "cell_type": "code",
   "execution_count": 43,
   "id": "5858ad2d",
   "metadata": {},
   "outputs": [
    {
     "data": {
      "text/plain": [
       "['pca_ok.joblib']"
      ]
     },
     "execution_count": 43,
     "metadata": {},
     "output_type": "execute_result"
    }
   ],
   "source": [
    "# dump(pca, 'pca_ok.joblib') # save the model"
   ]
  },
  {
   "cell_type": "code",
   "execution_count": 133,
   "id": "2c9821e4",
   "metadata": {},
   "outputs": [],
   "source": [
    "# pca = PCA(n_components=0.95, random_state=42)\n",
    "pca = load('pca_ok.joblib')\n",
    "X_scaled_pca_train = pca.transform(X_scaled_train)\n",
    "X_scaled_pca_train = pd.DataFrame(X_scaled_pca_train)\n",
    "\n",
    "X_scaled_pca_test = pca.transform(X_scaled_test)\n",
    "X_scaled_pca_test = pd.DataFrame(X_scaled_pca_test)"
   ]
  },
  {
   "cell_type": "code",
   "execution_count": 135,
   "id": "456521ab",
   "metadata": {},
   "outputs": [
    {
     "data": {
      "text/plain": [
       "['rfc_2022_ok.joblib']"
      ]
     },
     "execution_count": 135,
     "metadata": {},
     "output_type": "execute_result"
    }
   ],
   "source": [
    "dump(rfc, 'rfc_2022_ok.joblib') # save the model"
   ]
  },
  {
   "cell_type": "code",
   "execution_count": 136,
   "id": "2b6a1000",
   "metadata": {},
   "outputs": [],
   "source": [
    "# rfc = RandomForestClassifier(n_estimators=100, min_samples_split=2, max_depth=5, random_state=42)\n",
    "rfc = load('rfc_2022_ok.joblib')\n",
    "# rfc.fit(X_scaled_pca_train, y_train)\n",
    "probs = rfc.predict_proba(X_scaled_pca_test)\n",
    "probs_1 = [i[1] for i in probs]"
   ]
  },
  {
   "cell_type": "code",
   "execution_count": 138,
   "id": "7087f948",
   "metadata": {},
   "outputs": [],
   "source": [
    "df_test['Prob predicción'] = probs_1"
   ]
  },
  {
   "cell_type": "code",
   "execution_count": 152,
   "id": "8d70634c",
   "metadata": {},
   "outputs": [],
   "source": [
    "def definirColorSemaforo(num, bajo = 0.2, medio = 0.5):\n",
    "    if num < bajo:\n",
    "        return 'Sin Riesgo', 0\n",
    "    elif num < medio:\n",
    "        return 'Riesgo moderado', 1\n",
    "    else:\n",
    "        return 'Riesgo alto', 2\n",
    "\n",
    "df_test['Descrip Semaforo'] = [definirColorSemaforo(i)[0] for i in df_test['Prob predicción']]\n",
    "df_test['Semaforo'] = [definirColorSemaforo(i)[1] for i in df_test['Prob predicción']]"
   ]
  },
  {
   "cell_type": "code",
   "execution_count": 153,
   "id": "8d8af153",
   "metadata": {
    "scrolled": true
   },
   "outputs": [
    {
     "data": {
      "text/html": [
       "<div>\n",
       "<style scoped>\n",
       "    .dataframe tbody tr th:only-of-type {\n",
       "        vertical-align: middle;\n",
       "    }\n",
       "\n",
       "    .dataframe tbody tr th {\n",
       "        vertical-align: top;\n",
       "    }\n",
       "\n",
       "    .dataframe thead th {\n",
       "        text-align: right;\n",
       "    }\n",
       "</style>\n",
       "<table border=\"1\" class=\"dataframe\">\n",
       "  <thead>\n",
       "    <tr style=\"text-align: right;\">\n",
       "      <th></th>\n",
       "      <th>Pro_Entidad</th>\n",
       "      <th>Pro_Nit Entidad</th>\n",
       "      <th>Pro_Departamento Entidad</th>\n",
       "      <th>Pro_Ciudad Entidad</th>\n",
       "      <th>Pro_OrdenEntidad</th>\n",
       "      <th>Pro_Entidad Centralizada</th>\n",
       "      <th>Pro_ID del Proceso</th>\n",
       "      <th>Pro_Referencia del Proceso</th>\n",
       "      <th>Pro_PCI</th>\n",
       "      <th>Pro_ID del Portafolio</th>\n",
       "      <th>...</th>\n",
       "      <th>Pro_Tipo de Contrato</th>\n",
       "      <th>Pro_Subtipo de Contrato</th>\n",
       "      <th>Pro_URLProceso</th>\n",
       "      <th>Pro_Codigo Entidad</th>\n",
       "      <th>Pro_Estado Resumen</th>\n",
       "      <th>Cat_Extraccion</th>\n",
       "      <th>FueMultado</th>\n",
       "      <th>Prob predicción</th>\n",
       "      <th>Descrip Semaforo</th>\n",
       "      <th>Semaforo</th>\n",
       "    </tr>\n",
       "  </thead>\n",
       "  <tbody>\n",
       "    <tr>\n",
       "      <th>2</th>\n",
       "      <td>811021743</td>\n",
       "      <td>811021743</td>\n",
       "      <td>Antioquia</td>\n",
       "      <td>Medellín</td>\n",
       "      <td>Territorial</td>\n",
       "      <td>No</td>\n",
       "      <td>CO1.REQ.4355856</td>\n",
       "      <td>1139</td>\n",
       "      <td>ND</td>\n",
       "      <td>CO1.BDOS.4256735</td>\n",
       "      <td>...</td>\n",
       "      <td>Obra</td>\n",
       "      <td>No Especificado</td>\n",
       "      <td>{'url': 'https://community.secop.gov.co/Public...</td>\n",
       "      <td>718522014</td>\n",
       "      <td>Presentación de oferta</td>\n",
       "      <td>Cruce Directo ProcesoContrato</td>\n",
       "      <td>0</td>\n",
       "      <td>0.000674</td>\n",
       "      <td>Sin Riesgo</td>\n",
       "      <td>0</td>\n",
       "    </tr>\n",
       "    <tr>\n",
       "      <th>11</th>\n",
       "      <td>ACUEDUCTO Y ALCANTARILLADO DE POPAYAN SA ESP</td>\n",
       "      <td>891500117</td>\n",
       "      <td>Cauca</td>\n",
       "      <td>Popayán</td>\n",
       "      <td>Territorial</td>\n",
       "      <td>Si</td>\n",
       "      <td>CO1.REQ.3583248</td>\n",
       "      <td>523 - 2022</td>\n",
       "      <td>ND</td>\n",
       "      <td>CO1.BDOS.3491164</td>\n",
       "      <td>...</td>\n",
       "      <td>Obra</td>\n",
       "      <td>No Especificado</td>\n",
       "      <td>{'url': 'https://community.secop.gov.co/Public...</td>\n",
       "      <td>704996446</td>\n",
       "      <td>Presentación de oferta</td>\n",
       "      <td>Cruce Directo ProcesoContrato</td>\n",
       "      <td>0</td>\n",
       "      <td>0.000847</td>\n",
       "      <td>Sin Riesgo</td>\n",
       "      <td>0</td>\n",
       "    </tr>\n",
       "    <tr>\n",
       "      <th>14</th>\n",
       "      <td>ACUEDUCTO Y ALCANTARILLADO DE POPAYAN SA ESP</td>\n",
       "      <td>891500117</td>\n",
       "      <td>Cauca</td>\n",
       "      <td>Popayán</td>\n",
       "      <td>Territorial</td>\n",
       "      <td>Si</td>\n",
       "      <td>CO1.REQ.3791184</td>\n",
       "      <td>546 - 2022</td>\n",
       "      <td>ND</td>\n",
       "      <td>CO1.BDOS.3695151</td>\n",
       "      <td>...</td>\n",
       "      <td>Obra</td>\n",
       "      <td>No Especificado</td>\n",
       "      <td>{'url': 'https://community.secop.gov.co/Public...</td>\n",
       "      <td>704996446</td>\n",
       "      <td>Presentación de oferta</td>\n",
       "      <td>Cruce Directo ProcesoContrato</td>\n",
       "      <td>0</td>\n",
       "      <td>0.000847</td>\n",
       "      <td>Sin Riesgo</td>\n",
       "      <td>0</td>\n",
       "    </tr>\n",
       "  </tbody>\n",
       "</table>\n",
       "<p>3 rows × 53 columns</p>\n",
       "</div>"
      ],
      "text/plain": [
       "                                     Pro_Entidad  Pro_Nit Entidad   \n",
       "2                                      811021743        811021743  \\\n",
       "11  ACUEDUCTO Y ALCANTARILLADO DE POPAYAN SA ESP        891500117   \n",
       "14  ACUEDUCTO Y ALCANTARILLADO DE POPAYAN SA ESP        891500117   \n",
       "\n",
       "   Pro_Departamento Entidad Pro_Ciudad Entidad Pro_OrdenEntidad   \n",
       "2                 Antioquia           Medellín      Territorial  \\\n",
       "11                    Cauca            Popayán      Territorial   \n",
       "14                    Cauca            Popayán      Territorial   \n",
       "\n",
       "   Pro_Entidad Centralizada Pro_ID del Proceso Pro_Referencia del Proceso   \n",
       "2                        No    CO1.REQ.4355856                       1139  \\\n",
       "11                       Si    CO1.REQ.3583248                 523 - 2022   \n",
       "14                       Si    CO1.REQ.3791184                 546 - 2022   \n",
       "\n",
       "   Pro_PCI Pro_ID del Portafolio  ... Pro_Tipo de Contrato   \n",
       "2       ND      CO1.BDOS.4256735  ...                 Obra  \\\n",
       "11      ND      CO1.BDOS.3491164  ...                 Obra   \n",
       "14      ND      CO1.BDOS.3695151  ...                 Obra   \n",
       "\n",
       "   Pro_Subtipo de Contrato                                     Pro_URLProceso   \n",
       "2          No Especificado  {'url': 'https://community.secop.gov.co/Public...  \\\n",
       "11         No Especificado  {'url': 'https://community.secop.gov.co/Public...   \n",
       "14         No Especificado  {'url': 'https://community.secop.gov.co/Public...   \n",
       "\n",
       "   Pro_Codigo Entidad      Pro_Estado Resumen                 Cat_Extraccion   \n",
       "2           718522014  Presentación de oferta  Cruce Directo ProcesoContrato  \\\n",
       "11          704996446  Presentación de oferta  Cruce Directo ProcesoContrato   \n",
       "14          704996446  Presentación de oferta  Cruce Directo ProcesoContrato   \n",
       "\n",
       "   FueMultado  Prob predicción Descrip Semaforo Semaforo  \n",
       "2           0         0.000674       Sin Riesgo        0  \n",
       "11          0         0.000847       Sin Riesgo        0  \n",
       "14          0         0.000847       Sin Riesgo        0  \n",
       "\n",
       "[3 rows x 53 columns]"
      ]
     },
     "execution_count": 153,
     "metadata": {},
     "output_type": "execute_result"
    }
   ],
   "source": [
    "df_test.head(3)"
   ]
  },
  {
   "cell_type": "code",
   "execution_count": 141,
   "id": "7c4abcde",
   "metadata": {},
   "outputs": [
    {
     "data": {
      "text/plain": [
       "['Pro_Entidad',\n",
       " 'Pro_Nit Entidad',\n",
       " 'Pro_Departamento Entidad',\n",
       " 'Pro_Ciudad Entidad',\n",
       " 'Pro_OrdenEntidad',\n",
       " 'Pro_Entidad Centralizada',\n",
       " 'Pro_ID del Proceso',\n",
       " 'Pro_Referencia del Proceso',\n",
       " 'Pro_PCI',\n",
       " 'Pro_ID del Portafolio',\n",
       " 'Pro_Nombre del Procedimiento',\n",
       " 'Pro_Fase',\n",
       " 'Pro_Fecha de Publicacion del Proceso',\n",
       " 'Pro_Fecha de Ultima Publicación',\n",
       " 'Pro_Precio Base',\n",
       " 'Pro_Modalidad de Contratacion',\n",
       " 'Pro_Justificación Modalidad de Contratación',\n",
       " 'Pro_Duracion',\n",
       " 'Pro_Unidad de Duracion',\n",
       " 'Pro_Ciudad de la Unidad de Contratación',\n",
       " 'Pro_Nombre de la Unidad de Contratación',\n",
       " 'Pro_Proveedores Invitados',\n",
       " 'Pro_Proveedores con Invitacion Directa',\n",
       " 'Pro_Visualizaciones del Procedimiento',\n",
       " 'Pro_Proveedores que Manifestaron Interes',\n",
       " 'Pro_Respuestas al Procedimiento',\n",
       " 'Pro_Respuestas Externas',\n",
       " 'Pro_Conteo de Respuestas a Ofertas',\n",
       " 'Pro_Proveedores Unicos con Respuestas',\n",
       " 'Pro_Numero de Lotes',\n",
       " 'Pro_Estado del Procedimiento',\n",
       " 'Pro_ID Estado del Procedimiento',\n",
       " 'Pro_Adjudicado',\n",
       " 'Pro_ID Adjudicacion',\n",
       " 'Pro_CodigoProveedor',\n",
       " 'Pro_Departamento Proveedor',\n",
       " 'Pro_Ciudad Proveedor',\n",
       " 'Pro_Valor Total Adjudicacion',\n",
       " 'Pro_Nombre del Adjudicador',\n",
       " 'Pro_Nombre del Proveedor Adjudicado',\n",
       " 'Pro_NIT del Proveedor Adjudicado',\n",
       " 'Pro_Codigo Principal de Categoria',\n",
       " 'Pro_Estado de Apertura del Proceso',\n",
       " 'Pro_Tipo de Contrato',\n",
       " 'Pro_Subtipo de Contrato',\n",
       " 'Pro_URLProceso',\n",
       " 'Pro_Codigo Entidad',\n",
       " 'Pro_Estado Resumen',\n",
       " 'Cat_Extraccion',\n",
       " 'FueMultado',\n",
       " 'Prob predicción',\n",
       " 'Descrip Semaforo',\n",
       " 'Semaforo']"
      ]
     },
     "execution_count": 141,
     "metadata": {},
     "output_type": "execute_result"
    }
   ],
   "source": [
    "list(df_test.columns)"
   ]
  },
  {
   "cell_type": "code",
   "execution_count": 156,
   "id": "394fce7e",
   "metadata": {},
   "outputs": [],
   "source": [
    "def cargueSecop2Predicciones(cnxn, cursor, df_temp):\n",
    "    print('Proceso iniciado')\n",
    "    \n",
    "    for index, row in df_temp.iterrows():\n",
    "        cursor.execute(\"\"\"INSERT INTO Prod_SabanaAnalitica_Con_Predicciones ([Pro_Entidad],\n",
    "                         [Pro_Nit Entidad],\n",
    "                         [Pro_Departamento Entidad],\n",
    "                         [Pro_Ciudad Entidad],\n",
    "                         [Pro_OrdenEntidad],\n",
    "                         [Pro_Entidad Centralizada],\n",
    "                         [Pro_ID del Proceso],\n",
    "                         [Pro_Referencia del Proceso],\n",
    "                         [Pro_PCI],\n",
    "                         [Pro_ID del Portafolio],\n",
    "                         [Pro_Nombre del Procedimiento],\n",
    "                         [Pro_Fase],\n",
    "                         [Pro_Fecha de Publicacion del Proceso],\n",
    "                         [Pro_Fecha de Ultima Publicación],\n",
    "                         [Pro_Precio Base],\n",
    "                         [Pro_Modalidad de Contratacion],\n",
    "                         [Pro_Justificación Modalidad de Contratación],\n",
    "                         [Pro_Duracion],\n",
    "                         [Pro_Unidad de Duracion],\n",
    "                         [Pro_Ciudad de la Unidad de Contratación],\n",
    "                         [Pro_Nombre de la Unidad de Contratación],\n",
    "                         [Pro_Proveedores Invitados],\n",
    "                         [Pro_Proveedores con Invitacion Directa],\n",
    "                         [Pro_Visualizaciones del Procedimiento],\n",
    "                         [Pro_Proveedores que Manifestaron Interes],\n",
    "                         [Pro_Respuestas al Procedimiento],\n",
    "                         [Pro_Respuestas Externas],\n",
    "                         [Pro_Conteo de Respuestas a Ofertas],\n",
    "                         [Pro_Proveedores Unicos con Respuestas],\n",
    "                         [Pro_Numero de Lotes],\n",
    "                         [Pro_Estado del Procedimiento],\n",
    "                         [Pro_ID Estado del Procedimiento],\n",
    "                         [Pro_Adjudicado],\n",
    "                         [Pro_ID Adjudicacion],\n",
    "                         [Pro_CodigoProveedor],\n",
    "                         [Pro_Departamento Proveedor],\n",
    "                         [Pro_Ciudad Proveedor],\n",
    "                         [Pro_Valor Total Adjudicacion],\n",
    "                         [Pro_Nombre del Adjudicador],\n",
    "                         [Pro_Nombre del Proveedor Adjudicado],\n",
    "                         [Pro_NIT del Proveedor Adjudicado],\n",
    "                         [Pro_Codigo Principal de Categoria],\n",
    "                         [Pro_Estado de Apertura del Proceso],\n",
    "                         [Pro_Tipo de Contrato],\n",
    "                         [Pro_Subtipo de Contrato],\n",
    "                         [Pro_URLProceso],\n",
    "                         [Pro_Codigo Entidad],\n",
    "                         [Pro_Estado Resumen],\n",
    "                         [Cat_Extraccion],\n",
    "                         [FueMultado],\n",
    "                         [Prob predicción],\n",
    "                         [Semaforo],\n",
    "                         [Descrip Semaforo]) values(?, ?, ?, ?, ?, ?, ?, ?, ?, ?, ?, ?, ?, ?, ?, ?, ?, ?, ?, ?, ?, ?, ?, ?, ?, ?, ?, ?, ?, ?, ?, ?, ?, ?, ?, ?, ?, ?, ?, ?, ?, ?, ?, ?, ?, ?, ?, ?, ?, ?, ?, ?, ?)\"\"\", \n",
    "                        str(row['Pro_Entidad']),\n",
    "                         str(row['Pro_Nit Entidad']),\n",
    "                         str(row['Pro_Departamento Entidad']),\n",
    "                         str(row['Pro_Ciudad Entidad']),\n",
    "                         str(row['Pro_OrdenEntidad']),\n",
    "                         str(row['Pro_Entidad Centralizada']),\n",
    "                         str(row['Pro_ID del Proceso']),\n",
    "                         str(row['Pro_Referencia del Proceso']),\n",
    "                         str(row['Pro_PCI']),\n",
    "                         str(row['Pro_ID del Portafolio']),\n",
    "                         str(row['Pro_Nombre del Procedimiento']),\n",
    "                         str(row['Pro_Fase']),\n",
    "                         str(row['Pro_Fecha de Publicacion del Proceso']),\n",
    "                         str(row['Pro_Fecha de Ultima Publicación']),\n",
    "                         str(row['Pro_Precio Base']),\n",
    "                         str(row['Pro_Modalidad de Contratacion']),\n",
    "                         str(row['Pro_Justificación Modalidad de Contratación']),\n",
    "                         str(row['Pro_Duracion']),\n",
    "                         str(row['Pro_Unidad de Duracion']),\n",
    "                         str(row['Pro_Ciudad de la Unidad de Contratación']),\n",
    "                         str(row['Pro_Nombre de la Unidad de Contratación']),\n",
    "                         str(row['Pro_Proveedores Invitados']),\n",
    "                         str(row['Pro_Proveedores con Invitacion Directa']),\n",
    "                         str(row['Pro_Visualizaciones del Procedimiento']),\n",
    "                         str(row['Pro_Proveedores que Manifestaron Interes']),\n",
    "                         str(row['Pro_Respuestas al Procedimiento']),\n",
    "                         str(row['Pro_Respuestas Externas']),\n",
    "                         str(row['Pro_Conteo de Respuestas a Ofertas']),\n",
    "                         str(row['Pro_Proveedores Unicos con Respuestas']),\n",
    "                         str(row['Pro_Numero de Lotes']),\n",
    "                         str(row['Pro_Estado del Procedimiento']),\n",
    "                         str(row['Pro_ID Estado del Procedimiento']),\n",
    "                         str(row['Pro_Adjudicado']),\n",
    "                         str(row['Pro_ID Adjudicacion']),\n",
    "                         str(row['Pro_CodigoProveedor']),\n",
    "                         str(row['Pro_Departamento Proveedor']),\n",
    "                         str(row['Pro_Ciudad Proveedor']),\n",
    "                         str(row['Pro_Valor Total Adjudicacion']),\n",
    "                         str(row['Pro_Nombre del Adjudicador']),\n",
    "                         str(row['Pro_Nombre del Proveedor Adjudicado']),\n",
    "                         str(row['Pro_NIT del Proveedor Adjudicado']),\n",
    "                         str(row['Pro_Codigo Principal de Categoria']),\n",
    "                         str(row['Pro_Estado de Apertura del Proceso']),\n",
    "                         str(row['Pro_Tipo de Contrato']),\n",
    "                         str(row['Pro_Subtipo de Contrato']),\n",
    "                         str(row['Pro_URLProceso']),\n",
    "                         str(row['Pro_Codigo Entidad']),\n",
    "                         str(row['Pro_Estado Resumen']),\n",
    "                         str(row['Cat_Extraccion']),\n",
    "                         str(row['FueMultado']),\n",
    "                         str(row['Prob predicción']),\n",
    "                         str(row['Semaforo']),\n",
    "                         str(row['Descrip Semaforo']))\n",
    "        cnxn.commit()\n",
    "    \n",
    "    print('Datos cargados')"
   ]
  },
  {
   "cell_type": "code",
   "execution_count": 157,
   "id": "eef77536",
   "metadata": {},
   "outputs": [
    {
     "name": "stdout",
     "output_type": "stream",
     "text": [
      "Sesion iniciada\n"
     ]
    }
   ],
   "source": [
    "# 1. Se inicia la conexion con la base de datos\n",
    "cnxn, cursor = iniciarSesion()\n",
    "print(\"Sesion iniciada\")"
   ]
  },
  {
   "cell_type": "code",
   "execution_count": 154,
   "id": "0c9ed3d7",
   "metadata": {},
   "outputs": [
    {
     "data": {
      "text/plain": [
       "(8, 53)"
      ]
     },
     "execution_count": 154,
     "metadata": {},
     "output_type": "execute_result"
    }
   ],
   "source": [
    "df_usar = df_test[df_test['Semaforo'] != 0]\n",
    "df_usar.shape"
   ]
  },
  {
   "cell_type": "code",
   "execution_count": 155,
   "id": "9bc3f28c",
   "metadata": {},
   "outputs": [
    {
     "data": {
      "text/plain": [
       "7738    2023-03-27\n",
       "8503    2023-04-04\n",
       "14014   2023-04-13\n",
       "19848   2023-04-18\n",
       "20055   2023-04-05\n",
       "33703   2023-02-24\n",
       "33704   2023-02-24\n",
       "37208   2023-04-09\n",
       "Name: Pro_Fecha de Publicacion del Proceso, dtype: datetime64[ns]"
      ]
     },
     "execution_count": 155,
     "metadata": {},
     "output_type": "execute_result"
    }
   ],
   "source": [
    "df_usar['Pro_Fecha de Publicacion del Proceso'].head(16)"
   ]
  },
  {
   "cell_type": "code",
   "execution_count": 158,
   "id": "63f6c69c",
   "metadata": {},
   "outputs": [
    {
     "name": "stdout",
     "output_type": "stream",
     "text": [
      "0\n",
      "Proceso iniciado\n",
      "Datos cargados\n",
      "Carga completa\n",
      "8\n",
      "Proceso finalizado\n"
     ]
    }
   ],
   "source": [
    "# 4. Se cargan los datos completos a la base SQL\n",
    "k = 0\n",
    "total = 0\n",
    "\n",
    "while total < df_usar.shape[0]:\n",
    "    cnxn, cursor = iniciarSesion()\n",
    "    df_temp = df_usar[k*1000:min((k+1)*1000, df_usar.shape[0])]\n",
    "    print(k)\n",
    "    cargueSecop2Predicciones(cnxn, cursor, df_temp)\n",
    "    print(\"Carga completa\")\n",
    "    k += 1\n",
    "    total += df_temp.shape[0]\n",
    "    print(total)\n",
    "    cerrarCursor(cursor)\n",
    "\n",
    "# 5. Se cierra el cursor\n",
    "# cerrarCursor(cursor)\n",
    "print(\"Proceso finalizado\")"
   ]
  },
  {
   "cell_type": "code",
   "execution_count": 82,
   "id": "31cb25f6",
   "metadata": {},
   "outputs": [],
   "source": [
    "def borrarSecop2Completo():\n",
    "    cnxn.execute(\"\"\"TRUNCATE TABLE Prod_SabanaAnalitica_Con_Predicciones\"\"\")\n",
    "    cnxn.commit()\n",
    "    \n",
    "# 3. Se limipia la tabla para actualizar con los nuevos datos\n",
    "borrarSecop2Completo()"
   ]
  },
  {
   "cell_type": "code",
   "execution_count": null,
   "id": "3d42f270",
   "metadata": {},
   "outputs": [],
   "source": []
  }
 ],
 "metadata": {
  "kernelspec": {
   "display_name": "Python 3 (ipykernel)",
   "language": "python",
   "name": "python3"
  },
  "language_info": {
   "codemirror_mode": {
    "name": "ipython",
    "version": 3
   },
   "file_extension": ".py",
   "mimetype": "text/x-python",
   "name": "python",
   "nbconvert_exporter": "python",
   "pygments_lexer": "ipython3",
   "version": "3.8.16"
  }
 },
 "nbformat": 4,
 "nbformat_minor": 5
}
