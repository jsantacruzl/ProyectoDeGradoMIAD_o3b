{
 "cells": [
  {
   "cell_type": "code",
   "execution_count": 33,
   "metadata": {},
   "outputs": [],
   "source": [
    "import pyodbc\n",
    "import pandas as pd\n",
    "import numpy as np\n",
    "from sodapy import Socrata"
   ]
  },
  {
   "cell_type": "markdown",
   "metadata": {},
   "source": [
    "## Multas y Sanciones"
   ]
  },
  {
   "cell_type": "code",
   "execution_count": 73,
   "metadata": {},
   "outputs": [],
   "source": [
    "def iniciarSesion():\n",
    "    server = 'tcp:miadgpproyecto.database.windows.net' \n",
    "    database = 'DB_GP_PROYECTO' \n",
    "    username = 'admin_miad' \n",
    "    password = 'Abc123456789' \n",
    "    \n",
    "    cnxn = pyodbc.connect('DRIVER={ODBC Driver 17 for SQL Server};SERVER='+server+';DATABASE='+database+';UID='+username+';PWD='+ password)\n",
    "    cursor = cnxn.cursor()\n",
    "    \n",
    "    return cnxn, cursor"
   ]
  },
  {
   "cell_type": "code",
   "execution_count": 74,
   "metadata": {},
   "outputs": [],
   "source": [
    "def leerDatos():\n",
    "    client = Socrata(\"www.datos.gov.co\", None)\n",
    "    results = client.get(\"it5q-hg94\", limit=7000000)\n",
    "    results_df = pd.DataFrame.from_records(results)\n",
    "    \n",
    "    return results_df"
   ]
  },
  {
   "cell_type": "code",
   "execution_count": 75,
   "metadata": {},
   "outputs": [],
   "source": [
    "def borrarMultasYSanciones():\n",
    "    cnxn.execute(\"\"\"TRUNCATE TABLE Test_Secop2_MultasYSanciones\"\"\")\n",
    "    cnxn.commit()"
   ]
  },
  {
   "cell_type": "code",
   "execution_count": 61,
   "metadata": {},
   "outputs": [],
   "source": [
    "def cargueMultasYSanciones(cnxn, cursor):\n",
    "    print('Proceso iniciado')\n",
    "    \n",
    "    cnxn.execute(\"\"\"\n",
    "    TRUNCATE TABLE Test_Secop2_MultasYSanciones\"\"\")\n",
    "    cnxn.commit()\n",
    "    print('Datos borrados')\n",
    "    \n",
    "    for index, row in results_df.iterrows():\n",
    "        cursor.execute(\"\"\"INSERT INTO Test_Secop2_MultasYSanciones ([ID Proceso], [Referencia Proceso], [ID Contrato],\n",
    "           [Codigo Entidad Creadora], [Nombre Entidad Creadora],\n",
    "           [ Codigo Proveedor Objeto de la Multa],\n",
    "           [Nombre Proveedor Objeto de la Multa], [Valor], [Valor Pagado],\n",
    "           [Fecha Evento], [Aplico Garantias], [Numero de Acto], [Tipo de Sancion],\n",
    "           [Descripcion Otro Tipo De Sancion], [Estado], [Tipo],\n",
    "           [Numero de Version]) values(?,?,?,?,?,?,?,?,?,?,?,?,?,?,?,?,?)\"\"\", str(row.id_proceso), str(row.referencia_proceso), str(row.id_contrato)\n",
    "                       , str(row.codigo_entidad_creadora), str(row.nombre_entidad_creadora)\n",
    "                       , str(row.as_codigo_proveedor_objeto)\n",
    "                       , str(row.nombre_proveedor_objeto_de), str(row.valor), str(row.valor_pagado)\n",
    "                       , str(row.fecha_evento), str(row.aplico_garantias), str(row.numero_de_acto), str(row.tipo_de_sancion)\n",
    "                       , str(row.descripcion_otro_tipo_de), str(row.estado), str(row.tipo)\n",
    "                       , str(row.numero_de_version))\n",
    "    cnxn.commit()\n",
    "    \n",
    "    print('Datos cargados')"
   ]
  },
  {
   "cell_type": "code",
   "execution_count": 76,
   "metadata": {},
   "outputs": [],
   "source": [
    "def cerrarCursor(cursor):\n",
    "    try:\n",
    "        cursor.close()\n",
    "    except:\n",
    "        pass"
   ]
  },
  {
   "cell_type": "code",
   "execution_count": 50,
   "metadata": {},
   "outputs": [],
   "source": [
    "# 1. Se inicia la conexion con la base de datos\n",
    "cnxn, cursor = iniciarSesion()\n",
    "\n",
    "# 2. Se cargan los datos desde el API\n",
    "results_df = leerDatos()\n",
    "\n",
    "# 3. Se limipia la tabla para actualizar con los nuevos datos\n",
    "borrarMultasYSanciones()\n",
    "\n",
    "# 4. Se cargan los datos completos a la base SQL\n",
    "cargueMultasYSanciones(cnxn, cursor)\n",
    "\n",
    "# 5. Se cierra el cursor\n",
    "cerrarCursor(cursor)"
   ]
  },
  {
   "cell_type": "markdown",
   "metadata": {},
   "source": [
    "### Prueba de lectura"
   ]
  },
  {
   "cell_type": "code",
   "execution_count": 51,
   "metadata": {},
   "outputs": [],
   "source": [
    "sql = \"\"\"\n",
    "SELECT *\n",
    "FROM Test_Secop2_MultasYSanciones\n",
    "\"\"\""
   ]
  },
  {
   "cell_type": "code",
   "execution_count": 68,
   "metadata": {},
   "outputs": [],
   "source": [
    "data = pd.read_sql(sql,cnxn)"
   ]
  },
  {
   "cell_type": "code",
   "execution_count": 69,
   "metadata": {
    "scrolled": false
   },
   "outputs": [
    {
     "data": {
      "text/html": [
       "<div>\n",
       "<style scoped>\n",
       "    .dataframe tbody tr th:only-of-type {\n",
       "        vertical-align: middle;\n",
       "    }\n",
       "\n",
       "    .dataframe tbody tr th {\n",
       "        vertical-align: top;\n",
       "    }\n",
       "\n",
       "    .dataframe thead th {\n",
       "        text-align: right;\n",
       "    }\n",
       "</style>\n",
       "<table border=\"1\" class=\"dataframe\">\n",
       "  <thead>\n",
       "    <tr style=\"text-align: right;\">\n",
       "      <th></th>\n",
       "      <th>ID Proceso</th>\n",
       "      <th>Referencia Proceso</th>\n",
       "      <th>ID Contrato</th>\n",
       "      <th>Codigo Entidad Creadora</th>\n",
       "      <th>Nombre Entidad Creadora</th>\n",
       "      <th>Codigo Proveedor Objeto de la Multa</th>\n",
       "      <th>Nombre Proveedor Objeto de la Multa</th>\n",
       "      <th>Valor</th>\n",
       "      <th>Valor Pagado</th>\n",
       "      <th>Fecha Evento</th>\n",
       "      <th>Aplico Garantias</th>\n",
       "      <th>Numero de Acto</th>\n",
       "      <th>Tipo de Sancion</th>\n",
       "      <th>Descripcion Otro Tipo De Sancion</th>\n",
       "      <th>Estado</th>\n",
       "      <th>Tipo</th>\n",
       "      <th>Numero de Version</th>\n",
       "    </tr>\n",
       "  </thead>\n",
       "  <tbody>\n",
       "    <tr>\n",
       "      <th>0</th>\n",
       "      <td>CO1.BDOS.1462517</td>\n",
       "      <td>INS-CYT-326-2020</td>\n",
       "      <td>nan</td>\n",
       "      <td>700927064</td>\n",
       "      <td>INSTITUTO NACIONAL DE SALUD</td>\n",
       "      <td>7348865</td>\n",
       "      <td>EXOGENA LTDA</td>\n",
       "      <td>6737683.200000</td>\n",
       "      <td>0.000000</td>\n",
       "      <td>2021-03-02T00:00:00.000</td>\n",
       "      <td>False</td>\n",
       "      <td>127-2021</td>\n",
       "      <td>Tipo Sancion</td>\n",
       "      <td>nan</td>\n",
       "      <td>Estado</td>\n",
       "      <td>Tipo</td>\n",
       "      <td>3</td>\n",
       "    </tr>\n",
       "    <tr>\n",
       "      <th>1</th>\n",
       "      <td>CO1.BDOS.652069</td>\n",
       "      <td>CM-PDA-002-2019</td>\n",
       "      <td>nan</td>\n",
       "      <td>700566128</td>\n",
       "      <td>EMPRESAS PUBLICAS DE CUNDINAMARCA S.A. ESP</td>\n",
       "      <td>5015870</td>\n",
       "      <td>GESTION INTEGRAL CONSULTORES SAS</td>\n",
       "      <td>12216540.000000</td>\n",
       "      <td>0.000000</td>\n",
       "      <td>2019-11-01T00:00:00.000</td>\n",
       "      <td>True</td>\n",
       "      <td>RESOLUCION 256 DE 2019</td>\n",
       "      <td>Tipo Sancion</td>\n",
       "      <td>nan</td>\n",
       "      <td>Estado</td>\n",
       "      <td>Tipo</td>\n",
       "      <td>2</td>\n",
       "    </tr>\n",
       "    <tr>\n",
       "      <th>2</th>\n",
       "      <td>CO1.BDOS.444114</td>\n",
       "      <td>030-00-T-GAAMA-ESALO-2018</td>\n",
       "      <td>CO1.PCCNTR.502494</td>\n",
       "      <td>702024282</td>\n",
       "      <td>GRUPO AEREO DEL AMAZONAS</td>\n",
       "      <td>7031560</td>\n",
       "      <td>NEOGLOBAL SAS</td>\n",
       "      <td>6690240.000000</td>\n",
       "      <td>0.000000</td>\n",
       "      <td>2018-12-06T00:00:00.000</td>\n",
       "      <td>False</td>\n",
       "      <td>RESOLUCIÓN NÚMERO N°2</td>\n",
       "      <td>Tipo Sancion</td>\n",
       "      <td>nan</td>\n",
       "      <td>Estado</td>\n",
       "      <td>Tipo</td>\n",
       "      <td>3</td>\n",
       "    </tr>\n",
       "    <tr>\n",
       "      <th>3</th>\n",
       "      <td>CO1.BDOS.910853</td>\n",
       "      <td>PN DIRAF MIC 161</td>\n",
       "      <td>nan</td>\n",
       "      <td>700569072</td>\n",
       "      <td>POLICÍA NACIONAL - DIRECCIÓN ADMINISTRATIVA Y ...</td>\n",
       "      <td>4418067</td>\n",
       "      <td>FM Solutions SAS</td>\n",
       "      <td>1117005.000000</td>\n",
       "      <td>0.000000</td>\n",
       "      <td>2020-03-06T00:00:00.000</td>\n",
       "      <td>True</td>\n",
       "      <td>Resolución No 0001 del 06/03/2020</td>\n",
       "      <td>Tipo Sancion</td>\n",
       "      <td>nan</td>\n",
       "      <td>Estado</td>\n",
       "      <td>Tipo</td>\n",
       "      <td>3</td>\n",
       "    </tr>\n",
       "    <tr>\n",
       "      <th>4</th>\n",
       "      <td>CO1.BDOS.2274246</td>\n",
       "      <td>MC-TLM-CIC-491-2021</td>\n",
       "      <td>CO1.PCCNTR.2933569</td>\n",
       "      <td>702561986</td>\n",
       "      <td>SENA REGIONAL TOLIMA 1</td>\n",
       "      <td>9403791</td>\n",
       "      <td>NOVATEK DEL CARIBE SAS</td>\n",
       "      <td>nan</td>\n",
       "      <td>nan</td>\n",
       "      <td>nan</td>\n",
       "      <td>nan</td>\n",
       "      <td>nan</td>\n",
       "      <td>Tipo Sancion</td>\n",
       "      <td>nan</td>\n",
       "      <td>Estado</td>\n",
       "      <td>Tipo</td>\n",
       "      <td>3</td>\n",
       "    </tr>\n",
       "  </tbody>\n",
       "</table>\n",
       "</div>"
      ],
      "text/plain": [
       "         ID Proceso         Referencia Proceso         ID Contrato  \\\n",
       "0  CO1.BDOS.1462517           INS-CYT-326-2020                 nan   \n",
       "1   CO1.BDOS.652069            CM-PDA-002-2019                 nan   \n",
       "2   CO1.BDOS.444114  030-00-T-GAAMA-ESALO-2018   CO1.PCCNTR.502494   \n",
       "3   CO1.BDOS.910853           PN DIRAF MIC 161                 nan   \n",
       "4  CO1.BDOS.2274246        MC-TLM-CIC-491-2021  CO1.PCCNTR.2933569   \n",
       "\n",
       "  Codigo Entidad Creadora                            Nombre Entidad Creadora  \\\n",
       "0               700927064                        INSTITUTO NACIONAL DE SALUD   \n",
       "1               700566128         EMPRESAS PUBLICAS DE CUNDINAMARCA S.A. ESP   \n",
       "2               702024282                           GRUPO AEREO DEL AMAZONAS   \n",
       "3               700569072  POLICÍA NACIONAL - DIRECCIÓN ADMINISTRATIVA Y ...   \n",
       "4               702561986                             SENA REGIONAL TOLIMA 1   \n",
       "\n",
       "   Codigo Proveedor Objeto de la Multa Nombre Proveedor Objeto de la Multa  \\\n",
       "0                              7348865                        EXOGENA LTDA   \n",
       "1                              5015870    GESTION INTEGRAL CONSULTORES SAS   \n",
       "2                              7031560                       NEOGLOBAL SAS   \n",
       "3                              4418067                    FM Solutions SAS   \n",
       "4                              9403791              NOVATEK DEL CARIBE SAS   \n",
       "\n",
       "             Valor Valor Pagado             Fecha Evento Aplico Garantias  \\\n",
       "0   6737683.200000     0.000000  2021-03-02T00:00:00.000            False   \n",
       "1  12216540.000000     0.000000  2019-11-01T00:00:00.000             True   \n",
       "2   6690240.000000     0.000000  2018-12-06T00:00:00.000            False   \n",
       "3   1117005.000000     0.000000  2020-03-06T00:00:00.000             True   \n",
       "4              nan          nan                      nan              nan   \n",
       "\n",
       "                      Numero de Acto Tipo de Sancion  \\\n",
       "0                           127-2021    Tipo Sancion   \n",
       "1             RESOLUCION 256 DE 2019    Tipo Sancion   \n",
       "2              RESOLUCIÓN NÚMERO N°2    Tipo Sancion   \n",
       "3  Resolución No 0001 del 06/03/2020    Tipo Sancion   \n",
       "4                                nan    Tipo Sancion   \n",
       "\n",
       "  Descripcion Otro Tipo De Sancion  Estado  Tipo Numero de Version  \n",
       "0                              nan  Estado  Tipo                 3  \n",
       "1                              nan  Estado  Tipo                 2  \n",
       "2                              nan  Estado  Tipo                 3  \n",
       "3                              nan  Estado  Tipo                 3  \n",
       "4                              nan  Estado  Tipo                 3  "
      ]
     },
     "execution_count": 69,
     "metadata": {},
     "output_type": "execute_result"
    }
   ],
   "source": [
    "data.head()"
   ]
  },
  {
   "cell_type": "code",
   "execution_count": 70,
   "metadata": {},
   "outputs": [
    {
     "data": {
      "text/plain": [
       "(486, 17)"
      ]
     },
     "execution_count": 70,
     "metadata": {},
     "output_type": "execute_result"
    }
   ],
   "source": [
    "data.shape"
   ]
  }
 ],
 "metadata": {
  "kernelspec": {
   "display_name": "Python 3",
   "language": "python",
   "name": "python3"
  },
  "language_info": {
   "codemirror_mode": {
    "name": "ipython",
    "version": 3
   },
   "file_extension": ".py",
   "mimetype": "text/x-python",
   "name": "python",
   "nbconvert_exporter": "python",
   "pygments_lexer": "ipython3",
   "version": "3.8.5"
  }
 },
 "nbformat": 4,
 "nbformat_minor": 4
}
