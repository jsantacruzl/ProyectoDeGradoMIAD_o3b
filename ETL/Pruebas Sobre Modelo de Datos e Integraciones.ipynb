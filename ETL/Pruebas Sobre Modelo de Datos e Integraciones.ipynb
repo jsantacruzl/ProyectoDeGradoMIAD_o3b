{
 "cells": [
  {
   "cell_type": "code",
   "execution_count": 1,
   "id": "8b4316c4",
   "metadata": {},
   "outputs": [],
   "source": [
    "import pyodbc\n",
    "import pandas as pd\n",
    "import numpy as np\n",
    "from sodapy import Socrata"
   ]
  },
  {
   "cell_type": "code",
   "execution_count": 2,
   "id": "303355f6",
   "metadata": {},
   "outputs": [],
   "source": [
    "def iniciarSesion():\n",
    "    server = 'tcp:miadgpproyectofinal.database.windows.net' \n",
    "    database = 'DB_GP_PROYECTO' \n",
    "    username = 'admin_miad' \n",
    "    password = 'Abc123456789' \n",
    "    \n",
    "    cnxn = pyodbc.connect('DRIVER={ODBC Driver 17 for SQL Server};SERVER='+server+';DATABASE='+database+';UID='+username+';PWD='+ password)\n",
    "    cursor = cnxn.cursor()\n",
    "    \n",
    "    return cnxn, cursor"
   ]
  },
  {
   "cell_type": "code",
   "execution_count": 3,
   "id": "3ceb1c9d",
   "metadata": {},
   "outputs": [],
   "source": [
    "# 1. Se inicia la conexion con la base de datos\n",
    "cnxn, cursor = iniciarSesion()"
   ]
  },
  {
   "cell_type": "markdown",
   "id": "612d750b",
   "metadata": {},
   "source": [
    "# Contratos electronicos"
   ]
  },
  {
   "cell_type": "markdown",
   "id": "1cf2e837",
   "metadata": {},
   "source": [
    "## Comparacion entre test y prod"
   ]
  },
  {
   "cell_type": "code",
   "execution_count": 4,
   "id": "905e10f4",
   "metadata": {},
   "outputs": [
    {
     "name": "stderr",
     "output_type": "stream",
     "text": [
      "C:\\Users\\mariariasc\\Anaconda3\\lib\\site-packages\\pandas\\io\\sql.py:762: UserWarning: pandas only support SQLAlchemy connectable(engine/connection) ordatabase string URI or sqlite3 DBAPI2 connectionother DBAPI2 objects are not tested, please consider using SQLAlchemy\n",
      "  warnings.warn(\n",
      "C:\\Users\\mariariasc\\Anaconda3\\lib\\site-packages\\pandas\\io\\sql.py:762: UserWarning: pandas only support SQLAlchemy connectable(engine/connection) ordatabase string URI or sqlite3 DBAPI2 connectionother DBAPI2 objects are not tested, please consider using SQLAlchemy\n",
      "  warnings.warn(\n"
     ]
    }
   ],
   "source": [
    "sql = \"\"\"\n",
    "SELECT *\n",
    "FROM Test_Secop2_ContratosElectronicos\n",
    "\"\"\"\n",
    "\n",
    "test_contratos = pd.read_sql(sql,cnxn)\n",
    "\n",
    "\n",
    "sql = \"\"\"\n",
    "SELECT *\n",
    "FROM Prod_Secop2_ContratosElectronicos\n",
    "\"\"\"\n",
    "\n",
    "prod_contratos = pd.read_sql(sql,cnxn)\n"
   ]
  },
  {
   "cell_type": "code",
   "execution_count": 5,
   "id": "749a500f",
   "metadata": {},
   "outputs": [
    {
     "data": {
      "text/html": [
       "<div>\n",
       "<style scoped>\n",
       "    .dataframe tbody tr th:only-of-type {\n",
       "        vertical-align: middle;\n",
       "    }\n",
       "\n",
       "    .dataframe tbody tr th {\n",
       "        vertical-align: top;\n",
       "    }\n",
       "\n",
       "    .dataframe thead th {\n",
       "        text-align: right;\n",
       "    }\n",
       "</style>\n",
       "<table border=\"1\" class=\"dataframe\">\n",
       "  <thead>\n",
       "    <tr style=\"text-align: right;\">\n",
       "      <th></th>\n",
       "      <th>Nombre Entidad</th>\n",
       "      <th>Nit Entidad</th>\n",
       "      <th>Departamento</th>\n",
       "      <th>Ciudad</th>\n",
       "      <th>Localización</th>\n",
       "      <th>Orden</th>\n",
       "      <th>Sector</th>\n",
       "      <th>Rama</th>\n",
       "      <th>Entidad Centralizada</th>\n",
       "      <th>Proceso de Compra</th>\n",
       "      <th>...</th>\n",
       "      <th>Sistema General de Participaciones</th>\n",
       "      <th>Sistema General de Regalías</th>\n",
       "      <th>Recursos Propios (Alcaldías, Gobernaciones y Resguardos Indígenas)</th>\n",
       "      <th>Recursos de Credito</th>\n",
       "      <th>Recursos Propios</th>\n",
       "      <th>Ultima Actualizacion</th>\n",
       "      <th>Codigo Entidad</th>\n",
       "      <th>Fecha Inicio Liquidacion</th>\n",
       "      <th>Fecha Fin Liquidacion</th>\n",
       "      <th>Codigo Proveedor</th>\n",
       "    </tr>\n",
       "  </thead>\n",
       "  <tbody>\n",
       "    <tr>\n",
       "      <th>0</th>\n",
       "      <td>INSTITUTO NACIONAL DE VIAS</td>\n",
       "      <td>800215807</td>\n",
       "      <td>Distrito Capital de Bogotá</td>\n",
       "      <td>Bogotá</td>\n",
       "      <td>Colombia, Bogotá, Bogotá</td>\n",
       "      <td>Nacional</td>\n",
       "      <td>Transporte</td>\n",
       "      <td>Ejecutivo</td>\n",
       "      <td>Centralizada</td>\n",
       "      <td>CO1.BDOS.2093198</td>\n",
       "      <td>...</td>\n",
       "      <td>0</td>\n",
       "      <td>0</td>\n",
       "      <td>0</td>\n",
       "      <td>0</td>\n",
       "      <td>0</td>\n",
       "      <td>2021-12-24T00:00:00.000</td>\n",
       "      <td>700676059</td>\n",
       "      <td>nan</td>\n",
       "      <td>nan</td>\n",
       "      <td>702249038</td>\n",
       "    </tr>\n",
       "    <tr>\n",
       "      <th>1</th>\n",
       "      <td>MUNICIPIO DE ARMENIA QUINDIO</td>\n",
       "      <td>890000464</td>\n",
       "      <td>Quindío</td>\n",
       "      <td>Armenia</td>\n",
       "      <td>Colombia,  Quindío ,  Armenia</td>\n",
       "      <td>Territorial</td>\n",
       "      <td>Servicio Público</td>\n",
       "      <td>Ejecutivo</td>\n",
       "      <td>Descentralizada</td>\n",
       "      <td>CO1.BDOS.1630350</td>\n",
       "      <td>...</td>\n",
       "      <td>269924050</td>\n",
       "      <td>0</td>\n",
       "      <td>684127563</td>\n",
       "      <td>0</td>\n",
       "      <td>0</td>\n",
       "      <td>2022-05-13T00:00:00.000</td>\n",
       "      <td>701365033</td>\n",
       "      <td>2021-10-01 17:00:00</td>\n",
       "      <td>2022-04-30 17:00:00</td>\n",
       "      <td>712539071</td>\n",
       "    </tr>\n",
       "    <tr>\n",
       "      <th>2</th>\n",
       "      <td>CORPOAMAZONIA  CORPORACIÓN PARA EL DESARROLLO ...</td>\n",
       "      <td>800252844</td>\n",
       "      <td>Putumayo</td>\n",
       "      <td>Mocoa</td>\n",
       "      <td>Colombia,  Putumayo ,  Mocoa</td>\n",
       "      <td>Nacional</td>\n",
       "      <td>Ambiente y Desarrollo Sostenible</td>\n",
       "      <td>Corporación Autónoma</td>\n",
       "      <td>Descentralizada</td>\n",
       "      <td>CO1.BDOS.4112186</td>\n",
       "      <td>...</td>\n",
       "      <td>0</td>\n",
       "      <td>0</td>\n",
       "      <td>0</td>\n",
       "      <td>0</td>\n",
       "      <td>59880000</td>\n",
       "      <td>2023-04-10T00:00:00.000</td>\n",
       "      <td>702721457</td>\n",
       "      <td>2023-04-24 23:00:00</td>\n",
       "      <td>2023-04-24 23:05:00</td>\n",
       "      <td>700200033</td>\n",
       "    </tr>\n",
       "    <tr>\n",
       "      <th>3</th>\n",
       "      <td>MUNICIPIO DE PAIPA</td>\n",
       "      <td>891801240</td>\n",
       "      <td>Boyacá</td>\n",
       "      <td>No Definido</td>\n",
       "      <td>Colombia,  Boyacá</td>\n",
       "      <td>Territorial</td>\n",
       "      <td>Servicio Público</td>\n",
       "      <td>Ejecutivo</td>\n",
       "      <td>Centralizada</td>\n",
       "      <td>CO1.BDOS.3497412</td>\n",
       "      <td>...</td>\n",
       "      <td>0</td>\n",
       "      <td>565567182</td>\n",
       "      <td>0</td>\n",
       "      <td>0</td>\n",
       "      <td>838559936</td>\n",
       "      <td>2023-02-24T00:00:00.000</td>\n",
       "      <td>703584037</td>\n",
       "      <td>2023-06-01 23:00:00</td>\n",
       "      <td>2023-11-30 23:00:00</td>\n",
       "      <td>704212224</td>\n",
       "    </tr>\n",
       "    <tr>\n",
       "      <th>4</th>\n",
       "      <td>APOYO LOGISTICO COMANDO EJERCITO</td>\n",
       "      <td>8001306324</td>\n",
       "      <td>Distrito Capital de Bogotá</td>\n",
       "      <td>No Definido</td>\n",
       "      <td>Colombia, Bogotá, Bogotá</td>\n",
       "      <td>Nacional</td>\n",
       "      <td>defensa</td>\n",
       "      <td>Ejecutivo</td>\n",
       "      <td>Centralizada</td>\n",
       "      <td>CO1.BDOS.831014</td>\n",
       "      <td>...</td>\n",
       "      <td>0</td>\n",
       "      <td>0</td>\n",
       "      <td>0</td>\n",
       "      <td>0</td>\n",
       "      <td>0</td>\n",
       "      <td>2021-12-02T00:00:00.000</td>\n",
       "      <td>702952680</td>\n",
       "      <td>nan</td>\n",
       "      <td>nan</td>\n",
       "      <td>704277409</td>\n",
       "    </tr>\n",
       "  </tbody>\n",
       "</table>\n",
       "<p>5 rows × 69 columns</p>\n",
       "</div>"
      ],
      "text/plain": [
       "                                      Nombre Entidad Nit Entidad  \\\n",
       "0                         INSTITUTO NACIONAL DE VIAS   800215807   \n",
       "1                       MUNICIPIO DE ARMENIA QUINDIO   890000464   \n",
       "2  CORPOAMAZONIA  CORPORACIÓN PARA EL DESARROLLO ...   800252844   \n",
       "3                                 MUNICIPIO DE PAIPA   891801240   \n",
       "4                   APOYO LOGISTICO COMANDO EJERCITO  8001306324   \n",
       "\n",
       "                 Departamento       Ciudad                   Localización  \\\n",
       "0  Distrito Capital de Bogotá       Bogotá       Colombia, Bogotá, Bogotá   \n",
       "1                     Quindío      Armenia  Colombia,  Quindío ,  Armenia   \n",
       "2                    Putumayo        Mocoa   Colombia,  Putumayo ,  Mocoa   \n",
       "3                      Boyacá  No Definido              Colombia,  Boyacá   \n",
       "4  Distrito Capital de Bogotá  No Definido       Colombia, Bogotá, Bogotá   \n",
       "\n",
       "         Orden                            Sector                  Rama  \\\n",
       "0     Nacional                        Transporte             Ejecutivo   \n",
       "1  Territorial                  Servicio Público             Ejecutivo   \n",
       "2     Nacional  Ambiente y Desarrollo Sostenible  Corporación Autónoma   \n",
       "3  Territorial                  Servicio Público             Ejecutivo   \n",
       "4     Nacional                           defensa             Ejecutivo   \n",
       "\n",
       "  Entidad Centralizada Proceso de Compra  ...  \\\n",
       "0         Centralizada  CO1.BDOS.2093198  ...   \n",
       "1      Descentralizada  CO1.BDOS.1630350  ...   \n",
       "2      Descentralizada  CO1.BDOS.4112186  ...   \n",
       "3         Centralizada  CO1.BDOS.3497412  ...   \n",
       "4         Centralizada   CO1.BDOS.831014  ...   \n",
       "\n",
       "  Sistema General de Participaciones Sistema General de Regalías  \\\n",
       "0                                  0                           0   \n",
       "1                          269924050                           0   \n",
       "2                                  0                           0   \n",
       "3                                  0                   565567182   \n",
       "4                                  0                           0   \n",
       "\n",
       "  Recursos Propios (Alcaldías, Gobernaciones y Resguardos Indígenas)  \\\n",
       "0                                                  0                   \n",
       "1                                          684127563                   \n",
       "2                                                  0                   \n",
       "3                                                  0                   \n",
       "4                                                  0                   \n",
       "\n",
       "  Recursos de Credito Recursos Propios     Ultima Actualizacion  \\\n",
       "0                   0                0  2021-12-24T00:00:00.000   \n",
       "1                   0                0  2022-05-13T00:00:00.000   \n",
       "2                   0         59880000  2023-04-10T00:00:00.000   \n",
       "3                   0        838559936  2023-02-24T00:00:00.000   \n",
       "4                   0                0  2021-12-02T00:00:00.000   \n",
       "\n",
       "  Codigo Entidad Fecha Inicio Liquidacion Fecha Fin Liquidacion  \\\n",
       "0      700676059                      nan                   nan   \n",
       "1      701365033      2021-10-01 17:00:00   2022-04-30 17:00:00   \n",
       "2      702721457      2023-04-24 23:00:00   2023-04-24 23:05:00   \n",
       "3      703584037      2023-06-01 23:00:00   2023-11-30 23:00:00   \n",
       "4      702952680                      nan                   nan   \n",
       "\n",
       "  Codigo Proveedor  \n",
       "0        702249038  \n",
       "1        712539071  \n",
       "2        700200033  \n",
       "3        704212224  \n",
       "4        704277409  \n",
       "\n",
       "[5 rows x 69 columns]"
      ]
     },
     "execution_count": 5,
     "metadata": {},
     "output_type": "execute_result"
    }
   ],
   "source": [
    "test_contratos.head()"
   ]
  },
  {
   "cell_type": "markdown",
   "id": "102da3f1",
   "metadata": {},
   "source": [
    "### Numero de filas del df"
   ]
  },
  {
   "cell_type": "code",
   "execution_count": 37,
   "id": "1cb54689",
   "metadata": {},
   "outputs": [
    {
     "name": "stdout",
     "output_type": "stream",
     "text": [
      "Numero de filas del df test: 20895\n",
      "Numero de filas del df prod: 20895\n"
     ]
    }
   ],
   "source": [
    "len_test = len(test_contratos.index)\n",
    "len_prod = len(prod_contratos.index)\n",
    "print('Numero de filas del df test:',len_test)\n",
    "print('Numero de filas del df prod:',len_prod)"
   ]
  },
  {
   "cell_type": "markdown",
   "id": "e9a57095",
   "metadata": {},
   "source": [
    "### Contenido de la columna Rama"
   ]
  },
  {
   "cell_type": "code",
   "execution_count": 38,
   "id": "20699698",
   "metadata": {},
   "outputs": [
    {
     "name": "stdout",
     "output_type": "stream",
     "text": [
      "Valores unicos de la columna Rama en el df test: ['Ejecutivo' 'Corporación Autónoma' 'Judicial' 'Legislativo']\n",
      "Valores unicos de la columna Rama en el df prod: ['Ejecutivo' 'Corporación Autónoma' 'Judicial' 'Legislativo']\n"
     ]
    }
   ],
   "source": [
    "unicos_test= test_contratos['Rama'].unique()\n",
    "unicos_prod = prod_contratos['Rama'].unique()\n",
    "\n",
    "print('Valores unicos de la columna Rama en el df test:',unicos_test)\n",
    "print('Valores unicos de la columna Rama en el df prod:',unicos_prod)"
   ]
  },
  {
   "cell_type": "code",
   "execution_count": 30,
   "id": "886956c5",
   "metadata": {},
   "outputs": [
    {
     "name": "stdout",
     "output_type": "stream",
     "text": [
      "Numero de contratos prod de la rama ejecutiva: 16519\n",
      "Numero de contratos test de la rama ejecutiva: 16519\n"
     ]
    }
   ],
   "source": [
    "counterFunc = test_contratos.apply(\n",
    "    lambda x: True if x[7] == \"Ejecutivo\" else False , axis=1)\n",
    "numOfRows = len(counterFunc[counterFunc == True].index)\n",
    "\n",
    "counterFunc = prod_contratos.apply(\n",
    "    lambda x: True if x[7] == \"Ejecutivo\" else False , axis=1)\n",
    "numOfRows = len(counterFunc[counterFunc == True].index)\n",
    "\n",
    "print('Numero de contratos prod de la rama ejecutiva:',numOfRows)\n",
    "print('Numero de contratos test de la rama ejecutiva:',numOfRows)"
   ]
  },
  {
   "cell_type": "code",
   "execution_count": 31,
   "id": "43236fef",
   "metadata": {},
   "outputs": [
    {
     "name": "stdout",
     "output_type": "stream",
     "text": [
      "Numero de contratos prod de la rama Corporación Autónoma: 3807\n",
      "Numero de contratos test de la rama Corporación Autónoma: 3807\n"
     ]
    }
   ],
   "source": [
    "counterFunc = test_contratos.apply(\n",
    "    lambda x: True if x[7] == \"Corporación Autónoma\" else False , axis=1)\n",
    "numOfRows = len(counterFunc[counterFunc == True].index)\n",
    "\n",
    "counterFunc = prod_contratos.apply(\n",
    "    lambda x: True if x[7] == \"Corporación Autónoma\" else False , axis=1)\n",
    "numOfRows = len(counterFunc[counterFunc == True].index)\n",
    "\n",
    "print('Numero de contratos prod de la rama Corporación Autónoma:',numOfRows)\n",
    "print('Numero de contratos test de la rama Corporación Autónoma:',numOfRows)"
   ]
  },
  {
   "cell_type": "code",
   "execution_count": 32,
   "id": "59a25e5e",
   "metadata": {},
   "outputs": [
    {
     "name": "stdout",
     "output_type": "stream",
     "text": [
      "Numero de contratos prod de la rama Judicial: 553\n",
      "Numero de contratos test de la rama Judicial: 553\n"
     ]
    }
   ],
   "source": [
    "counterFunc = test_contratos.apply(\n",
    "    lambda x: True if x[7] == \"Judicial\" else False , axis=1)\n",
    "numOfRows = len(counterFunc[counterFunc == True].index)\n",
    "\n",
    "counterFunc = prod_contratos.apply(\n",
    "    lambda x: True if x[7] == \"Judicial\" else False , axis=1)\n",
    "numOfRows = len(counterFunc[counterFunc == True].index)\n",
    "\n",
    "print('Numero de contratos prod de la rama Judicial:',numOfRows)\n",
    "print('Numero de contratos test de la rama Judicial:',numOfRows)"
   ]
  },
  {
   "cell_type": "code",
   "execution_count": 33,
   "id": "541c881a",
   "metadata": {},
   "outputs": [
    {
     "name": "stdout",
     "output_type": "stream",
     "text": [
      "Numero de contratos prod de la rama Legislativo: 16\n",
      "Numero de contratos test de la rama Legislativo: 16\n"
     ]
    }
   ],
   "source": [
    "counterFunc = test_contratos.apply(\n",
    "    lambda x: True if x[7] == \"Legislativo\" else False , axis=1)\n",
    "numOfRows = len(counterFunc[counterFunc == True].index)\n",
    "\n",
    "counterFunc = prod_contratos.apply(\n",
    "    lambda x: True if x[7] == \"Legislativo\" else False , axis=1)\n",
    "numOfRows = len(counterFunc[counterFunc == True].index)\n",
    "\n",
    "print('Numero de contratos prod de la rama Legislativo:',numOfRows)\n",
    "print('Numero de contratos test de la rama Legislativo:',numOfRows)"
   ]
  },
  {
   "cell_type": "markdown",
   "id": "756ff1b9",
   "metadata": {},
   "source": [
    "### Conteo de valores nulos"
   ]
  },
  {
   "cell_type": "code",
   "execution_count": 61,
   "id": "255c095b",
   "metadata": {},
   "outputs": [
    {
     "name": "stdout",
     "output_type": "stream",
     "text": [
      "Numero de nulos en el DF prod: 63419\n",
      "Numero de nulos en el DF test: 63419\n"
     ]
    }
   ],
   "source": [
    "nulos_prod= prod_contratos.isnull().sum().sum()\n",
    "\n",
    "def contar_valor(celda, valor_dado):\n",
    "    return 1 if celda == valor_dado else 0\n",
    "\n",
    "conteo_total = test_contratos.applymap(lambda celda: contar_valor(celda, 'nan')).sum().sum()\n",
    "\n",
    "print('Numero de nulos en el DF prod:',nulos_prod)\n",
    "print('Numero de nulos en el DF test:',conteo_total)"
   ]
  },
  {
   "cell_type": "markdown",
   "id": "20196b3f",
   "metadata": {},
   "source": [
    "# Multas y sanciones"
   ]
  },
  {
   "cell_type": "code",
   "execution_count": 6,
   "id": "9ae69ec1",
   "metadata": {},
   "outputs": [
    {
     "name": "stderr",
     "output_type": "stream",
     "text": [
      "C:\\Users\\mariariasc\\Anaconda3\\lib\\site-packages\\pandas\\io\\sql.py:762: UserWarning: pandas only support SQLAlchemy connectable(engine/connection) ordatabase string URI or sqlite3 DBAPI2 connectionother DBAPI2 objects are not tested, please consider using SQLAlchemy\n",
      "  warnings.warn(\n",
      "C:\\Users\\mariariasc\\Anaconda3\\lib\\site-packages\\pandas\\io\\sql.py:762: UserWarning: pandas only support SQLAlchemy connectable(engine/connection) ordatabase string URI or sqlite3 DBAPI2 connectionother DBAPI2 objects are not tested, please consider using SQLAlchemy\n",
      "  warnings.warn(\n"
     ]
    }
   ],
   "source": [
    "sql = \"\"\"\n",
    "SELECT *\n",
    "FROM Test_Secop2_MultasYSanciones\n",
    "\"\"\"\n",
    "\n",
    "test_multas = pd.read_sql(sql,cnxn)\n",
    "\n",
    "\n",
    "sql = \"\"\"\n",
    "SELECT *\n",
    "FROM Prod_Secop2_MultasYSanciones\n",
    "\"\"\"\n",
    "\n",
    "prod_multas = pd.read_sql(sql,cnxn)"
   ]
  },
  {
   "cell_type": "markdown",
   "id": "ae1e2e68",
   "metadata": {},
   "source": [
    "## Comparacion entre test y prod"
   ]
  },
  {
   "cell_type": "code",
   "execution_count": 7,
   "id": "1afe8d79",
   "metadata": {},
   "outputs": [
    {
     "data": {
      "text/html": [
       "<div>\n",
       "<style scoped>\n",
       "    .dataframe tbody tr th:only-of-type {\n",
       "        vertical-align: middle;\n",
       "    }\n",
       "\n",
       "    .dataframe tbody tr th {\n",
       "        vertical-align: top;\n",
       "    }\n",
       "\n",
       "    .dataframe thead th {\n",
       "        text-align: right;\n",
       "    }\n",
       "</style>\n",
       "<table border=\"1\" class=\"dataframe\">\n",
       "  <thead>\n",
       "    <tr style=\"text-align: right;\">\n",
       "      <th></th>\n",
       "      <th>ID Proceso</th>\n",
       "      <th>Referencia Proceso</th>\n",
       "      <th>ID Contrato</th>\n",
       "      <th>Codigo Entidad Creadora</th>\n",
       "      <th>Nombre Entidad Creadora</th>\n",
       "      <th>Codigo Proveedor Objeto de la Multa</th>\n",
       "      <th>Nombre Proveedor Objeto de la Multa</th>\n",
       "      <th>Valor</th>\n",
       "      <th>Valor Pagado</th>\n",
       "      <th>Fecha Evento</th>\n",
       "      <th>Aplico Garantias</th>\n",
       "      <th>Numero de Acto</th>\n",
       "      <th>Tipo de Sancion</th>\n",
       "      <th>Descripcion Otro Tipo De Sancion</th>\n",
       "      <th>Estado</th>\n",
       "      <th>Tipo</th>\n",
       "      <th>Numero de Version</th>\n",
       "    </tr>\n",
       "  </thead>\n",
       "  <tbody>\n",
       "    <tr>\n",
       "      <th>0</th>\n",
       "      <td>CO1.BDOS.1462517</td>\n",
       "      <td>INS-CYT-326-2020</td>\n",
       "      <td>None</td>\n",
       "      <td>700927064</td>\n",
       "      <td>INSTITUTO NACIONAL DE SALUD</td>\n",
       "      <td>7348865</td>\n",
       "      <td>EXOGENA LTDA</td>\n",
       "      <td>6737683.200000</td>\n",
       "      <td>0.000000</td>\n",
       "      <td>2021-03-02T00:00:00.000</td>\n",
       "      <td>False</td>\n",
       "      <td>127-2021</td>\n",
       "      <td>Tipo Sancion</td>\n",
       "      <td>None</td>\n",
       "      <td>Estado</td>\n",
       "      <td>Tipo</td>\n",
       "      <td>3</td>\n",
       "    </tr>\n",
       "    <tr>\n",
       "      <th>1</th>\n",
       "      <td>CO1.BDOS.652069</td>\n",
       "      <td>CM-PDA-002-2019</td>\n",
       "      <td>None</td>\n",
       "      <td>700566128</td>\n",
       "      <td>EMPRESAS PUBLICAS DE CUNDINAMARCA S.A. ESP</td>\n",
       "      <td>5015870</td>\n",
       "      <td>GESTION INTEGRAL CONSULTORES SAS</td>\n",
       "      <td>12216540.000000</td>\n",
       "      <td>0.000000</td>\n",
       "      <td>2019-11-01T00:00:00.000</td>\n",
       "      <td>True</td>\n",
       "      <td>RESOLUCION 256 DE 2019</td>\n",
       "      <td>Tipo Sancion</td>\n",
       "      <td>None</td>\n",
       "      <td>Estado</td>\n",
       "      <td>Tipo</td>\n",
       "      <td>2</td>\n",
       "    </tr>\n",
       "    <tr>\n",
       "      <th>2</th>\n",
       "      <td>CO1.BDOS.444114</td>\n",
       "      <td>030-00-T-GAAMA-ESALO-2018</td>\n",
       "      <td>CO1.PCCNTR.502494</td>\n",
       "      <td>702024282</td>\n",
       "      <td>GRUPO AEREO DEL AMAZONAS</td>\n",
       "      <td>7031560</td>\n",
       "      <td>NEOGLOBAL SAS</td>\n",
       "      <td>6690240.000000</td>\n",
       "      <td>0.000000</td>\n",
       "      <td>2018-12-06T00:00:00.000</td>\n",
       "      <td>False</td>\n",
       "      <td>RESOLUCIÓN NÚMERO N°2</td>\n",
       "      <td>Tipo Sancion</td>\n",
       "      <td>None</td>\n",
       "      <td>Estado</td>\n",
       "      <td>Tipo</td>\n",
       "      <td>3</td>\n",
       "    </tr>\n",
       "    <tr>\n",
       "      <th>3</th>\n",
       "      <td>CO1.BDOS.910853</td>\n",
       "      <td>PN DIRAF MIC 161</td>\n",
       "      <td>None</td>\n",
       "      <td>700569072</td>\n",
       "      <td>POLICÍA NACIONAL - DIRECCIÓN ADMINISTRATIVA Y ...</td>\n",
       "      <td>4418067</td>\n",
       "      <td>FM Solutions SAS</td>\n",
       "      <td>1117005.000000</td>\n",
       "      <td>0.000000</td>\n",
       "      <td>2020-03-06T00:00:00.000</td>\n",
       "      <td>True</td>\n",
       "      <td>Resolución No 0001 del 06/03/2020</td>\n",
       "      <td>Tipo Sancion</td>\n",
       "      <td>None</td>\n",
       "      <td>Estado</td>\n",
       "      <td>Tipo</td>\n",
       "      <td>3</td>\n",
       "    </tr>\n",
       "    <tr>\n",
       "      <th>4</th>\n",
       "      <td>CO1.BDOS.2274246</td>\n",
       "      <td>MC-TLM-CIC-491-2021</td>\n",
       "      <td>CO1.PCCNTR.2933569</td>\n",
       "      <td>702561986</td>\n",
       "      <td>SENA REGIONAL TOLIMA 1</td>\n",
       "      <td>9403791</td>\n",
       "      <td>NOVATEK DEL CARIBE SAS</td>\n",
       "      <td>None</td>\n",
       "      <td>None</td>\n",
       "      <td>None</td>\n",
       "      <td>None</td>\n",
       "      <td>None</td>\n",
       "      <td>Tipo Sancion</td>\n",
       "      <td>None</td>\n",
       "      <td>Estado</td>\n",
       "      <td>Tipo</td>\n",
       "      <td>3</td>\n",
       "    </tr>\n",
       "  </tbody>\n",
       "</table>\n",
       "</div>"
      ],
      "text/plain": [
       "         ID Proceso         Referencia Proceso         ID Contrato  \\\n",
       "0  CO1.BDOS.1462517           INS-CYT-326-2020                None   \n",
       "1   CO1.BDOS.652069            CM-PDA-002-2019                None   \n",
       "2   CO1.BDOS.444114  030-00-T-GAAMA-ESALO-2018   CO1.PCCNTR.502494   \n",
       "3   CO1.BDOS.910853           PN DIRAF MIC 161                None   \n",
       "4  CO1.BDOS.2274246        MC-TLM-CIC-491-2021  CO1.PCCNTR.2933569   \n",
       "\n",
       "  Codigo Entidad Creadora                            Nombre Entidad Creadora  \\\n",
       "0               700927064                        INSTITUTO NACIONAL DE SALUD   \n",
       "1               700566128         EMPRESAS PUBLICAS DE CUNDINAMARCA S.A. ESP   \n",
       "2               702024282                           GRUPO AEREO DEL AMAZONAS   \n",
       "3               700569072  POLICÍA NACIONAL - DIRECCIÓN ADMINISTRATIVA Y ...   \n",
       "4               702561986                             SENA REGIONAL TOLIMA 1   \n",
       "\n",
       "   Codigo Proveedor Objeto de la Multa Nombre Proveedor Objeto de la Multa  \\\n",
       "0                              7348865                        EXOGENA LTDA   \n",
       "1                              5015870    GESTION INTEGRAL CONSULTORES SAS   \n",
       "2                              7031560                       NEOGLOBAL SAS   \n",
       "3                              4418067                    FM Solutions SAS   \n",
       "4                              9403791              NOVATEK DEL CARIBE SAS   \n",
       "\n",
       "             Valor Valor Pagado             Fecha Evento Aplico Garantias  \\\n",
       "0   6737683.200000     0.000000  2021-03-02T00:00:00.000            False   \n",
       "1  12216540.000000     0.000000  2019-11-01T00:00:00.000             True   \n",
       "2   6690240.000000     0.000000  2018-12-06T00:00:00.000            False   \n",
       "3   1117005.000000     0.000000  2020-03-06T00:00:00.000             True   \n",
       "4             None         None                     None             None   \n",
       "\n",
       "                      Numero de Acto Tipo de Sancion  \\\n",
       "0                           127-2021    Tipo Sancion   \n",
       "1             RESOLUCION 256 DE 2019    Tipo Sancion   \n",
       "2              RESOLUCIÓN NÚMERO N°2    Tipo Sancion   \n",
       "3  Resolución No 0001 del 06/03/2020    Tipo Sancion   \n",
       "4                               None    Tipo Sancion   \n",
       "\n",
       "  Descripcion Otro Tipo De Sancion  Estado  Tipo Numero de Version  \n",
       "0                             None  Estado  Tipo                 3  \n",
       "1                             None  Estado  Tipo                 2  \n",
       "2                             None  Estado  Tipo                 3  \n",
       "3                             None  Estado  Tipo                 3  \n",
       "4                             None  Estado  Tipo                 3  "
      ]
     },
     "execution_count": 7,
     "metadata": {},
     "output_type": "execute_result"
    }
   ],
   "source": [
    "test_multas.head()"
   ]
  },
  {
   "cell_type": "markdown",
   "id": "19becdf2",
   "metadata": {},
   "source": [
    "### Numero de filas del df"
   ]
  },
  {
   "cell_type": "code",
   "execution_count": 6,
   "id": "981567a9",
   "metadata": {},
   "outputs": [
    {
     "name": "stdout",
     "output_type": "stream",
     "text": [
      "Numero de filas del df test: 486\n",
      "Numero de filas del df prod: 486\n"
     ]
    }
   ],
   "source": [
    "len_test = len(test_multas.index)\n",
    "len_prod = len(prod_multas.index)\n",
    "print('Numero de filas del df test:',len_test)\n",
    "print('Numero de filas del df prod:',len_prod)"
   ]
  },
  {
   "cell_type": "markdown",
   "id": "c0e09abb",
   "metadata": {},
   "source": [
    "### Contenido de la columna Numero de Version"
   ]
  },
  {
   "cell_type": "code",
   "execution_count": 10,
   "id": "e536efd6",
   "metadata": {},
   "outputs": [
    {
     "name": "stdout",
     "output_type": "stream",
     "text": [
      "Valores unicos de la columna Rama en el df test: ['3' '2' '6' '1' '5' '4' '8' '7' '14' '11' '9' '10' '25']\n",
      "Valores unicos de la columna Rama en el df prod: [ 3  2  6  1  5  4  8  7 14 11  9 10 25]\n"
     ]
    }
   ],
   "source": [
    "unicos_test= test_multas['Numero de Version'].unique()\n",
    "unicos_prod = prod_multas['Numero de Version'].unique()\n",
    "\n",
    "print('Valores unicos de la columna Rama en el df test:',unicos_test)\n",
    "print('Valores unicos de la columna Rama en el df prod:',unicos_prod)"
   ]
  },
  {
   "cell_type": "markdown",
   "id": "867c9166",
   "metadata": {},
   "source": [
    "### Conteo de valores nulos"
   ]
  },
  {
   "cell_type": "code",
   "execution_count": 59,
   "id": "fb3a8855",
   "metadata": {},
   "outputs": [
    {
     "name": "stdout",
     "output_type": "stream",
     "text": [
      "Numero de nulos en el DF prod: 734\n",
      "Numero de nulos en el DF prod: 746\n"
     ]
    }
   ],
   "source": [
    "nulos_prod= prod_multas.isnull().sum().sum()\n",
    "nulos_test= test_multas.isnull().sum().sum()\n",
    "\n",
    "\n",
    "\n",
    "print('Numero de nulos en el DF prod:',nulos_prod)\n",
    "print('Numero de nulos en el DF prod:',nulos_test)\n"
   ]
  },
  {
   "cell_type": "markdown",
   "id": "91b4056f",
   "metadata": {},
   "source": [
    "No son iguales porque en la columna \"Aplico Garantias\" habian True, False y None en la tabla test. Pero cuando se hicieron los cambios de tipos de datos para construir la tabla prod, los False y los None se unieron en un solo valor (0) en esta columna. Por lo tanto, la tabla prod tiene 10 nulos mas que la tabla test. Sin embargo, esta columna no se usa en nuestros analisis. "
   ]
  },
  {
   "cell_type": "markdown",
   "id": "ea607629",
   "metadata": {},
   "source": [
    "# Completo (Procesos)"
   ]
  },
  {
   "cell_type": "markdown",
   "id": "5383bc68",
   "metadata": {},
   "source": [
    "## Comparacion entre test y prod"
   ]
  },
  {
   "cell_type": "code",
   "execution_count": 8,
   "id": "a9845706",
   "metadata": {},
   "outputs": [
    {
     "name": "stderr",
     "output_type": "stream",
     "text": [
      "C:\\Users\\mariariasc\\Anaconda3\\lib\\site-packages\\pandas\\io\\sql.py:762: UserWarning: pandas only support SQLAlchemy connectable(engine/connection) ordatabase string URI or sqlite3 DBAPI2 connectionother DBAPI2 objects are not tested, please consider using SQLAlchemy\n",
      "  warnings.warn(\n",
      "C:\\Users\\mariariasc\\Anaconda3\\lib\\site-packages\\pandas\\io\\sql.py:762: UserWarning: pandas only support SQLAlchemy connectable(engine/connection) ordatabase string URI or sqlite3 DBAPI2 connectionother DBAPI2 objects are not tested, please consider using SQLAlchemy\n",
      "  warnings.warn(\n"
     ]
    }
   ],
   "source": [
    "sql = \"\"\"\n",
    "SELECT *\n",
    "FROM Test_Secop2_Completo\n",
    "\"\"\"\n",
    "\n",
    "test_completo = pd.read_sql(sql,cnxn)\n",
    "\n",
    "sql = \"\"\"\n",
    "SELECT *\n",
    "FROM Prod_Secop2_Completo\n",
    "\"\"\"\n",
    "\n",
    "prod_completo = pd.read_sql(sql,cnxn)"
   ]
  },
  {
   "cell_type": "code",
   "execution_count": 9,
   "id": "c3a42ffe",
   "metadata": {},
   "outputs": [
    {
     "data": {
      "text/html": [
       "<div>\n",
       "<style scoped>\n",
       "    .dataframe tbody tr th:only-of-type {\n",
       "        vertical-align: middle;\n",
       "    }\n",
       "\n",
       "    .dataframe tbody tr th {\n",
       "        vertical-align: top;\n",
       "    }\n",
       "\n",
       "    .dataframe thead th {\n",
       "        text-align: right;\n",
       "    }\n",
       "</style>\n",
       "<table border=\"1\" class=\"dataframe\">\n",
       "  <thead>\n",
       "    <tr style=\"text-align: right;\">\n",
       "      <th></th>\n",
       "      <th>Entidad</th>\n",
       "      <th>Nit Entidad</th>\n",
       "      <th>Departamento Entidad</th>\n",
       "      <th>Ciudad Entidad</th>\n",
       "      <th>OrdenEntidad</th>\n",
       "      <th>Entidad Centralizada</th>\n",
       "      <th>ID del Proceso</th>\n",
       "      <th>Referencia del Proceso</th>\n",
       "      <th>PCI</th>\n",
       "      <th>ID del Portafolio</th>\n",
       "      <th>...</th>\n",
       "      <th>Nombre del Adjudicador</th>\n",
       "      <th>Nombre del Proveedor Adjudicado</th>\n",
       "      <th>NIT del Proveedor Adjudicado</th>\n",
       "      <th>Codigo Principal de Categoria</th>\n",
       "      <th>Estado de Apertura del Proceso</th>\n",
       "      <th>Tipo de Contrato</th>\n",
       "      <th>Subtipo de Contrato</th>\n",
       "      <th>URLProceso</th>\n",
       "      <th>Codigo Entidad</th>\n",
       "      <th>Estado Resumen</th>\n",
       "    </tr>\n",
       "  </thead>\n",
       "  <tbody>\n",
       "    <tr>\n",
       "      <th>0</th>\n",
       "      <td>SUPERINTENDENCIA DE SOCIEDADES</td>\n",
       "      <td>899999086</td>\n",
       "      <td>No Definido</td>\n",
       "      <td>No Definido</td>\n",
       "      <td>Nacional</td>\n",
       "      <td>Si</td>\n",
       "      <td>CO1.REQ.107802</td>\n",
       "      <td>56 DE 2016</td>\n",
       "      <td>35-02-00</td>\n",
       "      <td>CO1.BDOS.105401</td>\n",
       "      <td>...</td>\n",
       "      <td>SARA LUCIA ESCOBAR ZULUAGA</td>\n",
       "      <td>Construcciones AMG SAS</td>\n",
       "      <td>No Definido</td>\n",
       "      <td>V1.72121103</td>\n",
       "      <td>Cerrado</td>\n",
       "      <td>Obra</td>\n",
       "      <td>No Especificado</td>\n",
       "      <td>{'url': 'https://community.secop.gov.co/Public...</td>\n",
       "      <td>700326093</td>\n",
       "      <td>Adjudicado</td>\n",
       "    </tr>\n",
       "    <tr>\n",
       "      <th>1</th>\n",
       "      <td>ALCALDIA DISTRITAL BARRANCABERMEJA</td>\n",
       "      <td>890201900</td>\n",
       "      <td>No Definido</td>\n",
       "      <td>No Definido</td>\n",
       "      <td>Territorial</td>\n",
       "      <td>No</td>\n",
       "      <td>CO1.REQ.4301349</td>\n",
       "      <td>LICITACIÓN PÚBLICA OBRA LPO-001-2023 (Fase de ...</td>\n",
       "      <td>ND</td>\n",
       "      <td>CO1.BDOS.4117123</td>\n",
       "      <td>...</td>\n",
       "      <td>No Adjudicado</td>\n",
       "      <td>No Adjudicado</td>\n",
       "      <td>No Adjudicado</td>\n",
       "      <td>V1.70111601</td>\n",
       "      <td>Cerrado</td>\n",
       "      <td>Obra</td>\n",
       "      <td>No Especificado</td>\n",
       "      <td>{'url': 'https://community.secop.gov.co/Public...</td>\n",
       "      <td>702270372</td>\n",
       "      <td>Fase de Selección (Presentación de ofertas)</td>\n",
       "    </tr>\n",
       "    <tr>\n",
       "      <th>2</th>\n",
       "      <td>ALCALDÍA MUNICIPIO DE PALMIRA</td>\n",
       "      <td>891380007</td>\n",
       "      <td>No Definido</td>\n",
       "      <td>No Definido</td>\n",
       "      <td>Territorial</td>\n",
       "      <td>Si</td>\n",
       "      <td>CO1.REQ.3030559</td>\n",
       "      <td>MP-SE-LP-OP-041-2022 (Fase de Selección (Prese...</td>\n",
       "      <td>ND</td>\n",
       "      <td>CO1.BDOS.2928651</td>\n",
       "      <td>...</td>\n",
       "      <td>Andres Felipe Pereira Rodriguez</td>\n",
       "      <td>RICARDO ROJAS</td>\n",
       "      <td>No Definido</td>\n",
       "      <td>V1.72141100</td>\n",
       "      <td>Cerrado</td>\n",
       "      <td>Obra</td>\n",
       "      <td>No Especificado</td>\n",
       "      <td>{'url': 'https://community.secop.gov.co/Public...</td>\n",
       "      <td>700088016</td>\n",
       "      <td>Adjudicado</td>\n",
       "    </tr>\n",
       "    <tr>\n",
       "      <th>3</th>\n",
       "      <td>INSTITUTO NACIONAL DE VIAS</td>\n",
       "      <td>800215807</td>\n",
       "      <td>Distrito Capital de Bogotá</td>\n",
       "      <td>Bogotá</td>\n",
       "      <td>Nacional</td>\n",
       "      <td>No</td>\n",
       "      <td>CO1.REQ.419945</td>\n",
       "      <td>SA-MC-DT-OCA-004-2018 (Manifestación de interé...</td>\n",
       "      <td>24-02-00</td>\n",
       "      <td>CO1.BDOS.394474</td>\n",
       "      <td>...</td>\n",
       "      <td>No Adjudicado</td>\n",
       "      <td>No Adjudicado</td>\n",
       "      <td>No Adjudicado</td>\n",
       "      <td>V1.72141000</td>\n",
       "      <td>Cerrado</td>\n",
       "      <td>Obra</td>\n",
       "      <td>No Especificado</td>\n",
       "      <td>{'url': 'https://community.secop.gov.co/Public...</td>\n",
       "      <td>700676059</td>\n",
       "      <td>Manifestación de interés (Menor Cuantía)</td>\n",
       "    </tr>\n",
       "    <tr>\n",
       "      <th>4</th>\n",
       "      <td>INSTITUTO DE INFRAESTRUCTURA Y CONCESIONES DE ...</td>\n",
       "      <td>900258711</td>\n",
       "      <td>No Definido</td>\n",
       "      <td>No Definido</td>\n",
       "      <td>Territorial</td>\n",
       "      <td>Si</td>\n",
       "      <td>CO1.REQ.3384622</td>\n",
       "      <td>ICCU-CTO-293 DE 2022</td>\n",
       "      <td>ND</td>\n",
       "      <td>CO1.BDOS.3297326</td>\n",
       "      <td>...</td>\n",
       "      <td>No Adjudicado</td>\n",
       "      <td>No Adjudicado</td>\n",
       "      <td>No Adjudicado</td>\n",
       "      <td>V1.95111600</td>\n",
       "      <td>Abierto</td>\n",
       "      <td>Obra</td>\n",
       "      <td>No Especificado</td>\n",
       "      <td>{'url': 'https://community.secop.gov.co/Public...</td>\n",
       "      <td>702046087</td>\n",
       "      <td>Adjudicado</td>\n",
       "    </tr>\n",
       "  </tbody>\n",
       "</table>\n",
       "<p>5 rows × 55 columns</p>\n",
       "</div>"
      ],
      "text/plain": [
       "                                             Entidad Nit Entidad  \\\n",
       "0                     SUPERINTENDENCIA DE SOCIEDADES   899999086   \n",
       "1                 ALCALDIA DISTRITAL BARRANCABERMEJA   890201900   \n",
       "2                      ALCALDÍA MUNICIPIO DE PALMIRA   891380007   \n",
       "3                         INSTITUTO NACIONAL DE VIAS   800215807   \n",
       "4  INSTITUTO DE INFRAESTRUCTURA Y CONCESIONES DE ...   900258711   \n",
       "\n",
       "         Departamento Entidad Ciudad Entidad OrdenEntidad  \\\n",
       "0                 No Definido    No Definido     Nacional   \n",
       "1                 No Definido    No Definido  Territorial   \n",
       "2                 No Definido    No Definido  Territorial   \n",
       "3  Distrito Capital de Bogotá         Bogotá     Nacional   \n",
       "4                 No Definido    No Definido  Territorial   \n",
       "\n",
       "  Entidad Centralizada   ID del Proceso  \\\n",
       "0                   Si   CO1.REQ.107802   \n",
       "1                   No  CO1.REQ.4301349   \n",
       "2                   Si  CO1.REQ.3030559   \n",
       "3                   No   CO1.REQ.419945   \n",
       "4                   Si  CO1.REQ.3384622   \n",
       "\n",
       "                              Referencia del Proceso       PCI  \\\n",
       "0                                         56 DE 2016  35-02-00   \n",
       "1  LICITACIÓN PÚBLICA OBRA LPO-001-2023 (Fase de ...        ND   \n",
       "2  MP-SE-LP-OP-041-2022 (Fase de Selección (Prese...        ND   \n",
       "3  SA-MC-DT-OCA-004-2018 (Manifestación de interé...  24-02-00   \n",
       "4                               ICCU-CTO-293 DE 2022        ND   \n",
       "\n",
       "  ID del Portafolio  ...           Nombre del Adjudicador  \\\n",
       "0   CO1.BDOS.105401  ...       SARA LUCIA ESCOBAR ZULUAGA   \n",
       "1  CO1.BDOS.4117123  ...                    No Adjudicado   \n",
       "2  CO1.BDOS.2928651  ...  Andres Felipe Pereira Rodriguez   \n",
       "3   CO1.BDOS.394474  ...                    No Adjudicado   \n",
       "4  CO1.BDOS.3297326  ...                    No Adjudicado   \n",
       "\n",
       "  Nombre del Proveedor Adjudicado NIT del Proveedor Adjudicado  \\\n",
       "0          Construcciones AMG SAS                  No Definido   \n",
       "1                   No Adjudicado                No Adjudicado   \n",
       "2                   RICARDO ROJAS                  No Definido   \n",
       "3                   No Adjudicado                No Adjudicado   \n",
       "4                   No Adjudicado                No Adjudicado   \n",
       "\n",
       "  Codigo Principal de Categoria Estado de Apertura del Proceso  \\\n",
       "0                   V1.72121103                        Cerrado   \n",
       "1                   V1.70111601                        Cerrado   \n",
       "2                   V1.72141100                        Cerrado   \n",
       "3                   V1.72141000                        Cerrado   \n",
       "4                   V1.95111600                        Abierto   \n",
       "\n",
       "  Tipo de Contrato Subtipo de Contrato  \\\n",
       "0             Obra     No Especificado   \n",
       "1             Obra     No Especificado   \n",
       "2             Obra     No Especificado   \n",
       "3             Obra     No Especificado   \n",
       "4             Obra     No Especificado   \n",
       "\n",
       "                                          URLProceso Codigo Entidad  \\\n",
       "0  {'url': 'https://community.secop.gov.co/Public...      700326093   \n",
       "1  {'url': 'https://community.secop.gov.co/Public...      702270372   \n",
       "2  {'url': 'https://community.secop.gov.co/Public...      700088016   \n",
       "3  {'url': 'https://community.secop.gov.co/Public...      700676059   \n",
       "4  {'url': 'https://community.secop.gov.co/Public...      702046087   \n",
       "\n",
       "                                Estado Resumen  \n",
       "0                                   Adjudicado  \n",
       "1  Fase de Selección (Presentación de ofertas)  \n",
       "2                                   Adjudicado  \n",
       "3     Manifestación de interés (Menor Cuantía)  \n",
       "4                                   Adjudicado  \n",
       "\n",
       "[5 rows x 55 columns]"
      ]
     },
     "execution_count": 9,
     "metadata": {},
     "output_type": "execute_result"
    }
   ],
   "source": [
    "test_completo.head()"
   ]
  },
  {
   "cell_type": "markdown",
   "id": "8f3e714b",
   "metadata": {},
   "source": [
    "### Numero de filas del df"
   ]
  },
  {
   "cell_type": "code",
   "execution_count": 8,
   "id": "1ed8d883",
   "metadata": {},
   "outputs": [
    {
     "name": "stdout",
     "output_type": "stream",
     "text": [
      "Numero de filas del df test: 40917\n",
      "Numero de filas del df prod: 40917\n"
     ]
    }
   ],
   "source": [
    "len_test = len(test_completo.index)\n",
    "len_prod = len(prod_completo.index)\n",
    "print('Numero de filas del df test:',len_test)\n",
    "print('Numero de filas del df prod:',len_prod)"
   ]
  },
  {
   "cell_type": "markdown",
   "id": "e497b06f",
   "metadata": {},
   "source": [
    "### Contenido de la columna Tipo de Contrato"
   ]
  },
  {
   "cell_type": "code",
   "execution_count": 10,
   "id": "055b8d57",
   "metadata": {},
   "outputs": [
    {
     "name": "stdout",
     "output_type": "stream",
     "text": [
      "Valores unicos de la columna Rama en el df test: ['Obra']\n",
      "Valores unicos de la columna Rama en el df prod: ['Obra']\n"
     ]
    }
   ],
   "source": [
    "unicos_test_completo= test_completo['Tipo de Contrato'].unique()\n",
    "unicos_prod_completo = prod_completo['Tipo de Contrato'].unique()\n",
    "\n",
    "print('Valores unicos de la columna Rama en el df test:',unicos_test_completo)\n",
    "print('Valores unicos de la columna Rama en el df prod:',unicos_prod_completo)"
   ]
  },
  {
   "cell_type": "markdown",
   "id": "7659e1ec",
   "metadata": {},
   "source": [
    "### Contenido de la columna OrdenEntidad"
   ]
  },
  {
   "cell_type": "code",
   "execution_count": 11,
   "id": "0b8fb1a7",
   "metadata": {},
   "outputs": [
    {
     "name": "stdout",
     "output_type": "stream",
     "text": [
      "Valores unicos de la columna Rama en el df test: ['Nacional' 'Territorial' 'Corporación Autónoma']\n",
      "Valores unicos de la columna Rama en el df prod: ['Nacional' 'Territorial' 'Corporación Autónoma']\n"
     ]
    }
   ],
   "source": [
    "unicos_test_completo= test_completo['OrdenEntidad'].unique()\n",
    "unicos_prod_completo = prod_completo['OrdenEntidad'].unique()\n",
    "\n",
    "print('Valores unicos de la columna Rama en el df test:',unicos_test_completo)\n",
    "print('Valores unicos de la columna Rama en el df prod:',unicos_prod_completo)"
   ]
  },
  {
   "cell_type": "markdown",
   "id": "a5d5d59c",
   "metadata": {},
   "source": [
    "### Conteo de valores nulos"
   ]
  },
  {
   "cell_type": "code",
   "execution_count": 15,
   "id": "d3fd5b8b",
   "metadata": {},
   "outputs": [
    {
     "name": "stdout",
     "output_type": "stream",
     "text": [
      "Numero de nulos en el DF prod: 135811\n",
      "Numero de nulos en el DF test: 135811\n"
     ]
    }
   ],
   "source": [
    "nulos_prod_completo= prod_completo.isnull().sum().sum()\n",
    "\n",
    "def contar_valor(celda, valor_dado):\n",
    "    return 1 if celda == valor_dado else 0\n",
    "\n",
    "conteo_total = test_completo.applymap(lambda celda: contar_valor(celda, 'nan')).sum().sum()\n",
    "\n",
    "\n",
    "print('Numero de nulos en el DF prod:',nulos_prod_completo)\n",
    "print('Numero de nulos en el DF test:',conteo_total)\n"
   ]
  },
  {
   "cell_type": "markdown",
   "id": "d4f66583",
   "metadata": {},
   "source": [
    "# MultaProcesoContrato"
   ]
  },
  {
   "cell_type": "markdown",
   "id": "a893b5af",
   "metadata": {},
   "source": [
    "## Comparacion entre multaProcesoContrato y las tablas prod"
   ]
  },
  {
   "cell_type": "code",
   "execution_count": 4,
   "id": "ae88833b",
   "metadata": {},
   "outputs": [
    {
     "name": "stderr",
     "output_type": "stream",
     "text": [
      "C:\\Users\\mariariasc\\Anaconda3\\lib\\site-packages\\pandas\\io\\sql.py:762: UserWarning: pandas only support SQLAlchemy connectable(engine/connection) ordatabase string URI or sqlite3 DBAPI2 connectionother DBAPI2 objects are not tested, please consider using SQLAlchemy\n",
      "  warnings.warn(\n",
      "C:\\Users\\mariariasc\\Anaconda3\\lib\\site-packages\\pandas\\io\\sql.py:762: UserWarning: pandas only support SQLAlchemy connectable(engine/connection) ordatabase string URI or sqlite3 DBAPI2 connectionother DBAPI2 objects are not tested, please consider using SQLAlchemy\n",
      "  warnings.warn(\n"
     ]
    }
   ],
   "source": [
    "sql = \"\"\"\n",
    "SELECT *\n",
    "FROM View_MultaProcesoContrato\n",
    "\"\"\"\n",
    "\n",
    "multaProcesoContrato = pd.read_sql(sql,cnxn)\n",
    "\n",
    "sql = \"\"\"\n",
    "SELECT *\n",
    "FROM View_ProcesoContrato\n",
    "\"\"\"\n",
    "\n",
    "procesoContrato = pd.read_sql(sql,cnxn)"
   ]
  },
  {
   "cell_type": "code",
   "execution_count": 11,
   "id": "0ff5a705",
   "metadata": {},
   "outputs": [
    {
     "data": {
      "text/html": [
       "<div>\n",
       "<style scoped>\n",
       "    .dataframe tbody tr th:only-of-type {\n",
       "        vertical-align: middle;\n",
       "    }\n",
       "\n",
       "    .dataframe tbody tr th {\n",
       "        vertical-align: top;\n",
       "    }\n",
       "\n",
       "    .dataframe thead th {\n",
       "        text-align: right;\n",
       "    }\n",
       "</style>\n",
       "<table border=\"1\" class=\"dataframe\">\n",
       "  <thead>\n",
       "    <tr style=\"text-align: right;\">\n",
       "      <th></th>\n",
       "      <th>ID Proceso</th>\n",
       "      <th>Referencia Proceso</th>\n",
       "      <th>ID Contrato</th>\n",
       "      <th>Codigo Entidad Creadora</th>\n",
       "      <th>Nombre Entidad Creadora</th>\n",
       "      <th>Codigo Proveedor Objeto de la Multa</th>\n",
       "      <th>Nombre Proveedor Objeto de la Multa</th>\n",
       "      <th>Valor</th>\n",
       "      <th>Valor Pagado</th>\n",
       "      <th>Fecha Evento</th>\n",
       "      <th>Aplico Garantias</th>\n",
       "      <th>Numero de Acto</th>\n",
       "      <th>Tipo de Sancion</th>\n",
       "      <th>Descripcion Otro Tipo De Sancion</th>\n",
       "      <th>Estado</th>\n",
       "      <th>Tipo</th>\n",
       "      <th>Numero de Version</th>\n",
       "    </tr>\n",
       "  </thead>\n",
       "  <tbody>\n",
       "    <tr>\n",
       "      <th>0</th>\n",
       "      <td>CO1.BDOS.1171200</td>\n",
       "      <td>018-00-H-CACOM-5-GRUAL-2020</td>\n",
       "      <td>None</td>\n",
       "      <td>702000068</td>\n",
       "      <td>COMANDO AÉREO DE COMBATE No. 5</td>\n",
       "      <td>5082250</td>\n",
       "      <td>CONSTRUCCIONES DEL ESTADO INGENIERIA S.A.S</td>\n",
       "      <td>2.709315e+06</td>\n",
       "      <td>2709314.94</td>\n",
       "      <td>2020-11-10</td>\n",
       "      <td>0</td>\n",
       "      <td>RESOLUCION No. 005-018-00-H-CACOM-5-GRUAL-2020</td>\n",
       "      <td>Tipo Sancion</td>\n",
       "      <td>None</td>\n",
       "      <td>Estado</td>\n",
       "      <td>Tipo</td>\n",
       "      <td>3</td>\n",
       "    </tr>\n",
       "    <tr>\n",
       "      <th>1</th>\n",
       "      <td>CO1.BDOS.1173409</td>\n",
       "      <td>PN DIRAF SA MC 042 2020</td>\n",
       "      <td>CO1.PCCNTR.1619569</td>\n",
       "      <td>700569072</td>\n",
       "      <td>POLICÍA NACIONAL - DIRECCIÓN ADMINISTRATIVA Y ...</td>\n",
       "      <td>4418067</td>\n",
       "      <td>CONSORCIO CONSTRUVALOR ESTACIÓN LA HORMIGA</td>\n",
       "      <td>1.014474e+07</td>\n",
       "      <td>0.00</td>\n",
       "      <td>2021-05-28</td>\n",
       "      <td>0</td>\n",
       "      <td>RESOLUCIÓN 0227</td>\n",
       "      <td>Tipo Sancion</td>\n",
       "      <td>None</td>\n",
       "      <td>Estado</td>\n",
       "      <td>Tipo</td>\n",
       "      <td>3</td>\n",
       "    </tr>\n",
       "    <tr>\n",
       "      <th>2</th>\n",
       "      <td>CO1.BDOS.1209544</td>\n",
       "      <td>LP-DO-SRN-012-2020</td>\n",
       "      <td>CO1.PCCNTR.1712844</td>\n",
       "      <td>700676059</td>\n",
       "      <td>INSTITUTO NACIONAL DE VIAS</td>\n",
       "      <td>6020556</td>\n",
       "      <td>CONSORCIO INVIAS NARIÑO MDI</td>\n",
       "      <td>1.800000e+08</td>\n",
       "      <td>0.00</td>\n",
       "      <td>2021-10-29</td>\n",
       "      <td>1</td>\n",
       "      <td>Resoluciones 3274 del 26 de octubre de 2021 y ...</td>\n",
       "      <td>Tipo Sancion</td>\n",
       "      <td>None</td>\n",
       "      <td>Estado</td>\n",
       "      <td>Tipo</td>\n",
       "      <td>2</td>\n",
       "    </tr>\n",
       "    <tr>\n",
       "      <th>3</th>\n",
       "      <td>CO1.BDOS.1209544</td>\n",
       "      <td>LP-DO-SRN-012-2020</td>\n",
       "      <td>CO1.PCCNTR.1712844</td>\n",
       "      <td>700676059</td>\n",
       "      <td>INSTITUTO NACIONAL DE VIAS</td>\n",
       "      <td>6020556</td>\n",
       "      <td>CONSORCIO INVIAS NARIÑO MDI</td>\n",
       "      <td>3.409208e+08</td>\n",
       "      <td>0.00</td>\n",
       "      <td>2021-10-29</td>\n",
       "      <td>1</td>\n",
       "      <td>Resoluciones 3295 del 28 de octubre de 2021 y ...</td>\n",
       "      <td>Tipo Sancion</td>\n",
       "      <td>None</td>\n",
       "      <td>Estado</td>\n",
       "      <td>Tipo</td>\n",
       "      <td>2</td>\n",
       "    </tr>\n",
       "    <tr>\n",
       "      <th>4</th>\n",
       "      <td>CO1.BDOS.1234863</td>\n",
       "      <td>SAMC-001-2020</td>\n",
       "      <td>CO1.PCCNTR.1745220</td>\n",
       "      <td>700985013</td>\n",
       "      <td>FONDO ROTATORIO DE LA POLICIA</td>\n",
       "      <td>3653276</td>\n",
       "      <td>Miguel Angel Vallejo Burgos</td>\n",
       "      <td>3.165049e+08</td>\n",
       "      <td>2790000.00</td>\n",
       "      <td>2020-12-16</td>\n",
       "      <td>0</td>\n",
       "      <td>RESOLUCCIÓN 00566</td>\n",
       "      <td>Tipo Sancion</td>\n",
       "      <td>None</td>\n",
       "      <td>Estado</td>\n",
       "      <td>Tipo</td>\n",
       "      <td>4</td>\n",
       "    </tr>\n",
       "  </tbody>\n",
       "</table>\n",
       "</div>"
      ],
      "text/plain": [
       "         ID Proceso           Referencia Proceso         ID Contrato  \\\n",
       "0  CO1.BDOS.1171200  018-00-H-CACOM-5-GRUAL-2020                None   \n",
       "1  CO1.BDOS.1173409      PN DIRAF SA MC 042 2020  CO1.PCCNTR.1619569   \n",
       "2  CO1.BDOS.1209544           LP-DO-SRN-012-2020  CO1.PCCNTR.1712844   \n",
       "3  CO1.BDOS.1209544           LP-DO-SRN-012-2020  CO1.PCCNTR.1712844   \n",
       "4  CO1.BDOS.1234863                SAMC-001-2020  CO1.PCCNTR.1745220   \n",
       "\n",
       "  Codigo Entidad Creadora                            Nombre Entidad Creadora  \\\n",
       "0               702000068                     COMANDO AÉREO DE COMBATE No. 5   \n",
       "1               700569072  POLICÍA NACIONAL - DIRECCIÓN ADMINISTRATIVA Y ...   \n",
       "2               700676059                         INSTITUTO NACIONAL DE VIAS   \n",
       "3               700676059                         INSTITUTO NACIONAL DE VIAS   \n",
       "4               700985013                      FONDO ROTATORIO DE LA POLICIA   \n",
       "\n",
       "   Codigo Proveedor Objeto de la Multa  \\\n",
       "0                              5082250   \n",
       "1                              4418067   \n",
       "2                              6020556   \n",
       "3                              6020556   \n",
       "4                              3653276   \n",
       "\n",
       "          Nombre Proveedor Objeto de la Multa         Valor  Valor Pagado  \\\n",
       "0  CONSTRUCCIONES DEL ESTADO INGENIERIA S.A.S  2.709315e+06    2709314.94   \n",
       "1  CONSORCIO CONSTRUVALOR ESTACIÓN LA HORMIGA  1.014474e+07          0.00   \n",
       "2                 CONSORCIO INVIAS NARIÑO MDI  1.800000e+08          0.00   \n",
       "3                 CONSORCIO INVIAS NARIÑO MDI  3.409208e+08          0.00   \n",
       "4                 Miguel Angel Vallejo Burgos  3.165049e+08    2790000.00   \n",
       "\n",
       "  Fecha Evento  Aplico Garantias  \\\n",
       "0   2020-11-10                 0   \n",
       "1   2021-05-28                 0   \n",
       "2   2021-10-29                 1   \n",
       "3   2021-10-29                 1   \n",
       "4   2020-12-16                 0   \n",
       "\n",
       "                                      Numero de Acto Tipo de Sancion  \\\n",
       "0     RESOLUCION No. 005-018-00-H-CACOM-5-GRUAL-2020    Tipo Sancion   \n",
       "1                                    RESOLUCIÓN 0227    Tipo Sancion   \n",
       "2  Resoluciones 3274 del 26 de octubre de 2021 y ...    Tipo Sancion   \n",
       "3  Resoluciones 3295 del 28 de octubre de 2021 y ...    Tipo Sancion   \n",
       "4                                  RESOLUCCIÓN 00566    Tipo Sancion   \n",
       "\n",
       "  Descripcion Otro Tipo De Sancion  Estado  Tipo  Numero de Version  \n",
       "0                             None  Estado  Tipo                  3  \n",
       "1                             None  Estado  Tipo                  3  \n",
       "2                             None  Estado  Tipo                  2  \n",
       "3                             None  Estado  Tipo                  2  \n",
       "4                             None  Estado  Tipo                  4  "
      ]
     },
     "execution_count": 11,
     "metadata": {},
     "output_type": "execute_result"
    }
   ],
   "source": [
    "multaProcesoContrato.head()"
   ]
  },
  {
   "cell_type": "code",
   "execution_count": 12,
   "id": "1b11e332",
   "metadata": {},
   "outputs": [
    {
     "data": {
      "text/html": [
       "<div>\n",
       "<style scoped>\n",
       "    .dataframe tbody tr th:only-of-type {\n",
       "        vertical-align: middle;\n",
       "    }\n",
       "\n",
       "    .dataframe tbody tr th {\n",
       "        vertical-align: top;\n",
       "    }\n",
       "\n",
       "    .dataframe thead th {\n",
       "        text-align: right;\n",
       "    }\n",
       "</style>\n",
       "<table border=\"1\" class=\"dataframe\">\n",
       "  <thead>\n",
       "    <tr style=\"text-align: right;\">\n",
       "      <th></th>\n",
       "      <th>Pro_Entidad</th>\n",
       "      <th>Pro_Nit Entidad</th>\n",
       "      <th>Pro_Departamento Entidad</th>\n",
       "      <th>Pro_Ciudad Entidad</th>\n",
       "      <th>Pro_OrdenEntidad</th>\n",
       "      <th>Pro_Entidad Centralizada</th>\n",
       "      <th>Pro_ID del Proceso</th>\n",
       "      <th>Pro_Referencia del Proceso</th>\n",
       "      <th>Pro_PCI</th>\n",
       "      <th>Pro_ID del Portafolio</th>\n",
       "      <th>...</th>\n",
       "      <th>Con_Valor Facturado</th>\n",
       "      <th>Con_Valor Pendiente de Pago</th>\n",
       "      <th>Con_Valor Pagado</th>\n",
       "      <th>Con_Valor Amortizado</th>\n",
       "      <th>Con_Valor Pendiente de Amortizacion</th>\n",
       "      <th>Con_Valor Pendiente de Ejecucion</th>\n",
       "      <th>Con_Dias Adicionados</th>\n",
       "      <th>Con_Fecha Inicio Liquidacion</th>\n",
       "      <th>Con_Fecha Fin Liquidacion</th>\n",
       "      <th>Cat_Extraccion</th>\n",
       "    </tr>\n",
       "  </thead>\n",
       "  <tbody>\n",
       "    <tr>\n",
       "      <th>0</th>\n",
       "      <td>811021743</td>\n",
       "      <td>811021743</td>\n",
       "      <td>Antioquia</td>\n",
       "      <td>Medellín</td>\n",
       "      <td>Territorial</td>\n",
       "      <td>No</td>\n",
       "      <td>CO1.REQ.3314776</td>\n",
       "      <td>1127</td>\n",
       "      <td>ND</td>\n",
       "      <td>CO1.BDOS.3228167</td>\n",
       "      <td>...</td>\n",
       "      <td>NaN</td>\n",
       "      <td>NaN</td>\n",
       "      <td>NaN</td>\n",
       "      <td>NaN</td>\n",
       "      <td>NaN</td>\n",
       "      <td>NaN</td>\n",
       "      <td>NaN</td>\n",
       "      <td>None</td>\n",
       "      <td>None</td>\n",
       "      <td>Cruce Directo ProcesoContrato</td>\n",
       "    </tr>\n",
       "    <tr>\n",
       "      <th>1</th>\n",
       "      <td>811021743</td>\n",
       "      <td>811021743</td>\n",
       "      <td>Antioquia</td>\n",
       "      <td>Medellín</td>\n",
       "      <td>Territorial</td>\n",
       "      <td>No</td>\n",
       "      <td>CO1.REQ.3613724</td>\n",
       "      <td>1129</td>\n",
       "      <td>ND</td>\n",
       "      <td>CO1.BDOS.3520939</td>\n",
       "      <td>...</td>\n",
       "      <td>NaN</td>\n",
       "      <td>NaN</td>\n",
       "      <td>NaN</td>\n",
       "      <td>NaN</td>\n",
       "      <td>NaN</td>\n",
       "      <td>NaN</td>\n",
       "      <td>NaN</td>\n",
       "      <td>None</td>\n",
       "      <td>None</td>\n",
       "      <td>Cruce Directo ProcesoContrato</td>\n",
       "    </tr>\n",
       "    <tr>\n",
       "      <th>2</th>\n",
       "      <td>811021743</td>\n",
       "      <td>811021743</td>\n",
       "      <td>Antioquia</td>\n",
       "      <td>Medellín</td>\n",
       "      <td>Territorial</td>\n",
       "      <td>No</td>\n",
       "      <td>CO1.REQ.4355856</td>\n",
       "      <td>1139</td>\n",
       "      <td>ND</td>\n",
       "      <td>CO1.BDOS.4256735</td>\n",
       "      <td>...</td>\n",
       "      <td>NaN</td>\n",
       "      <td>NaN</td>\n",
       "      <td>NaN</td>\n",
       "      <td>NaN</td>\n",
       "      <td>NaN</td>\n",
       "      <td>NaN</td>\n",
       "      <td>NaN</td>\n",
       "      <td>None</td>\n",
       "      <td>None</td>\n",
       "      <td>Cruce Directo ProcesoContrato</td>\n",
       "    </tr>\n",
       "    <tr>\n",
       "      <th>3</th>\n",
       "      <td>ACUEDUCTO METROPOLITANO DE BUCARAMANGA SA ESP</td>\n",
       "      <td>8902001622</td>\n",
       "      <td>No Definido</td>\n",
       "      <td>No Definido</td>\n",
       "      <td>Territorial</td>\n",
       "      <td>Si</td>\n",
       "      <td>CO1.REQ.3648589</td>\n",
       "      <td>CO249-2022</td>\n",
       "      <td>ND</td>\n",
       "      <td>CO1.BDOS.3555063</td>\n",
       "      <td>...</td>\n",
       "      <td>NaN</td>\n",
       "      <td>NaN</td>\n",
       "      <td>NaN</td>\n",
       "      <td>NaN</td>\n",
       "      <td>NaN</td>\n",
       "      <td>NaN</td>\n",
       "      <td>NaN</td>\n",
       "      <td>None</td>\n",
       "      <td>None</td>\n",
       "      <td>Cruce Directo ProcesoContrato</td>\n",
       "    </tr>\n",
       "    <tr>\n",
       "      <th>4</th>\n",
       "      <td>ACUEDUCTO METROPOLITANO DE BUCARAMANGA SA ESP</td>\n",
       "      <td>8902001622</td>\n",
       "      <td>No Definido</td>\n",
       "      <td>No Definido</td>\n",
       "      <td>Territorial</td>\n",
       "      <td>Si</td>\n",
       "      <td>CO1.REQ.3775787</td>\n",
       "      <td>CO 293-22</td>\n",
       "      <td>ND</td>\n",
       "      <td>CO1.BDOS.3679782</td>\n",
       "      <td>...</td>\n",
       "      <td>NaN</td>\n",
       "      <td>NaN</td>\n",
       "      <td>NaN</td>\n",
       "      <td>NaN</td>\n",
       "      <td>NaN</td>\n",
       "      <td>NaN</td>\n",
       "      <td>NaN</td>\n",
       "      <td>None</td>\n",
       "      <td>None</td>\n",
       "      <td>Cruce Directo ProcesoContrato</td>\n",
       "    </tr>\n",
       "  </tbody>\n",
       "</table>\n",
       "<p>5 rows × 79 columns</p>\n",
       "</div>"
      ],
      "text/plain": [
       "                                     Pro_Entidad Pro_Nit Entidad  \\\n",
       "0                                      811021743       811021743   \n",
       "1                                      811021743       811021743   \n",
       "2                                      811021743       811021743   \n",
       "3  ACUEDUCTO METROPOLITANO DE BUCARAMANGA SA ESP      8902001622   \n",
       "4  ACUEDUCTO METROPOLITANO DE BUCARAMANGA SA ESP      8902001622   \n",
       "\n",
       "  Pro_Departamento Entidad Pro_Ciudad Entidad Pro_OrdenEntidad  \\\n",
       "0                Antioquia           Medellín      Territorial   \n",
       "1                Antioquia           Medellín      Territorial   \n",
       "2                Antioquia           Medellín      Territorial   \n",
       "3              No Definido        No Definido      Territorial   \n",
       "4              No Definido        No Definido      Territorial   \n",
       "\n",
       "  Pro_Entidad Centralizada Pro_ID del Proceso Pro_Referencia del Proceso  \\\n",
       "0                       No    CO1.REQ.3314776                       1127   \n",
       "1                       No    CO1.REQ.3613724                       1129   \n",
       "2                       No    CO1.REQ.4355856                       1139   \n",
       "3                       Si    CO1.REQ.3648589                 CO249-2022   \n",
       "4                       Si    CO1.REQ.3775787                  CO 293-22   \n",
       "\n",
       "  Pro_PCI Pro_ID del Portafolio  ... Con_Valor Facturado  \\\n",
       "0      ND      CO1.BDOS.3228167  ...                 NaN   \n",
       "1      ND      CO1.BDOS.3520939  ...                 NaN   \n",
       "2      ND      CO1.BDOS.4256735  ...                 NaN   \n",
       "3      ND      CO1.BDOS.3555063  ...                 NaN   \n",
       "4      ND      CO1.BDOS.3679782  ...                 NaN   \n",
       "\n",
       "  Con_Valor Pendiente de Pago Con_Valor Pagado Con_Valor Amortizado  \\\n",
       "0                         NaN              NaN                  NaN   \n",
       "1                         NaN              NaN                  NaN   \n",
       "2                         NaN              NaN                  NaN   \n",
       "3                         NaN              NaN                  NaN   \n",
       "4                         NaN              NaN                  NaN   \n",
       "\n",
       "  Con_Valor Pendiente de Amortizacion Con_Valor Pendiente de Ejecucion  \\\n",
       "0                                 NaN                              NaN   \n",
       "1                                 NaN                              NaN   \n",
       "2                                 NaN                              NaN   \n",
       "3                                 NaN                              NaN   \n",
       "4                                 NaN                              NaN   \n",
       "\n",
       "  Con_Dias Adicionados  Con_Fecha Inicio Liquidacion  \\\n",
       "0                  NaN                          None   \n",
       "1                  NaN                          None   \n",
       "2                  NaN                          None   \n",
       "3                  NaN                          None   \n",
       "4                  NaN                          None   \n",
       "\n",
       "  Con_Fecha Fin Liquidacion                 Cat_Extraccion  \n",
       "0                      None  Cruce Directo ProcesoContrato  \n",
       "1                      None  Cruce Directo ProcesoContrato  \n",
       "2                      None  Cruce Directo ProcesoContrato  \n",
       "3                      None  Cruce Directo ProcesoContrato  \n",
       "4                      None  Cruce Directo ProcesoContrato  \n",
       "\n",
       "[5 rows x 79 columns]"
      ]
     },
     "execution_count": 12,
     "metadata": {},
     "output_type": "execute_result"
    }
   ],
   "source": [
    "procesoContrato.head()"
   ]
  },
  {
   "cell_type": "markdown",
   "id": "e8e5d3ac",
   "metadata": {},
   "source": [
    "La tabla MultaProcesoContrato se conforma de 2 partes. La primera son todos los contratos en comun que tienen las tablas Prod_multas y prod_contratos. La segunda parte son todos los procesos en comun que tienen las tablas prod_completo y prod_multas. Para verificar la primera parte: primero se sacan los valores unicos de prod_contratos. Luego se revisa cuales de esos valores unicos estan en la tabla prod_multas. Y esos son los valores unicos que deberian estar en MultaProcesoContrato. Para verificar la segunda parte de la tabla: Primero se sacan los procesos unicos de prod_completo, luego se revisa cuales de esos valores unicos estan en la tabla prod_multas. Y, esos son los procesos unicos que deberian estar en MultaProcesoContrato."
   ]
  },
  {
   "cell_type": "code",
   "execution_count": 28,
   "id": "b39d8d97",
   "metadata": {},
   "outputs": [
    {
     "name": "stdout",
     "output_type": "stream",
     "text": [
      "Numero de contratos unicos que tienen ambas tablas : 27\n",
      "Numero de contratos unicos que tiene la tabla final MultaProcesoContrato: 28\n"
     ]
    }
   ],
   "source": [
    "## Se hace un merge que una solamente las llaves que tienen en comun la tabla prod_contratos y prod_multas\n",
    "check = prod_contratos.merge(prod_multas, how='inner', on=\"ID Contrato\")\n",
    "print('Numero de contratos unicos que tienen ambas tablas :',len(check))\n",
    "\n",
    "## cuenta valores unicos de la tabla multaProcesoContrato y deberia coincidir\n",
    "contratos_unicos= multaProcesoContrato['ID Contrato'].unique()\n",
    "print('Numero de contratos unicos que tiene la tabla final MultaProcesoContrato:',len(contratos_unicos))\n",
    "\n"
   ]
  },
  {
   "cell_type": "code",
   "execution_count": 41,
   "id": "5a0076b5",
   "metadata": {},
   "outputs": [
    {
     "name": "stdout",
     "output_type": "stream",
     "text": [
      "Numero de contratos unicos que tienen ambas tablas : 39\n",
      "Numero de contratos unicos que tiene la tabla final MultaProcesoContrato: 39\n"
     ]
    }
   ],
   "source": [
    "## Se hace un merge que una solamente las llaves que tienen en comun la tabla prod_contratos y prod_multas\n",
    "check2 = prod_completo.merge(prod_multas, how='inner', left_on=\"Referencia del Proceso\", right_on=\"Referencia Proceso\")\n",
    "check3= check2['Referencia Proceso'].unique()\n",
    "print('Numero de contratos unicos que tienen ambas tablas :',len(check3))\n",
    "\n",
    "## cuenta valores unicos de la tabla multaProcesoContrato y deberia coincidir\n",
    "procesos_unicos2= multaProcesoContrato['Referencia Proceso'].unique()\n",
    "print('Numero de contratos unicos que tiene la tabla final MultaProcesoContrato:',len(procesos_unicos2))"
   ]
  },
  {
   "cell_type": "markdown",
   "id": "64ed40b8",
   "metadata": {},
   "source": [
    "# ProcesoContrato"
   ]
  },
  {
   "cell_type": "markdown",
   "id": "f04410cf",
   "metadata": {},
   "source": [
    "## Comparacion entre ProcesoContrato y las tablas prod"
   ]
  },
  {
   "cell_type": "markdown",
   "id": "14072827",
   "metadata": {},
   "source": [
    "La tabla procesoContrato se compone de varias partes. \n",
    "- la primera es que se buscan todos los contratos de la tabla prod_completo. Luego se buscan aquellas filas que tengan en comun el ID del portafolio (o proceso de compra en la tabla prod_contratosElectronicos) y el codigoProveedor. Aquellas filas que coincidan se rellena la informacion faltante, pero igual aquellas filas que no coincidan en la tabla prod_contratosElectronicos se deja la informacion vacia (columnas vacias)\n",
    "- la segunda parte seria agregar aquellos contratos que no tienen asociada la llave elegida es decir que no tienen ningun proceso de compra\n"
   ]
  },
  {
   "cell_type": "code",
   "execution_count": 51,
   "id": "b81ad296",
   "metadata": {},
   "outputs": [
    {
     "name": "stdout",
     "output_type": "stream",
     "text": [
      "Numero de procesos unicos en prod_completo : 24559\n",
      "Numero de procesos unicos en ProcesoContrato: 24560\n"
     ]
    }
   ],
   "source": [
    "##para la primera parte: Se verifica que la tabla ProcesoContrato tenga la misma cantidad de procesos de la tabla prod_completo\n",
    "procesos_prodCompleto= prod_completo['ID del Portafolio'].unique()\n",
    "print('Numero de procesos unicos en prod_completo :',len(procesos_prodCompleto))\n",
    "\n",
    "\n",
    "procesos_ProcesoContrato= procesoContrato['Pro_ID del Portafolio'].unique()\n",
    "print('Numero de procesos unicos en ProcesoContrato:',len(procesos_ProcesoContrato))"
   ]
  },
  {
   "cell_type": "markdown",
   "id": "05f2a158",
   "metadata": {},
   "source": [
    "# Sabana Analitica"
   ]
  },
  {
   "cell_type": "markdown",
   "id": "c03c9144",
   "metadata": {},
   "source": [
    "## Comparacion entre las tablas ProcesoContrato, multasProcesoContratos y SabanaAnalitica"
   ]
  },
  {
   "cell_type": "code",
   "execution_count": 5,
   "id": "de54b7cd",
   "metadata": {},
   "outputs": [
    {
     "name": "stderr",
     "output_type": "stream",
     "text": [
      "C:\\Users\\mariariasc\\Anaconda3\\lib\\site-packages\\pandas\\io\\sql.py:762: UserWarning: pandas only support SQLAlchemy connectable(engine/connection) ordatabase string URI or sqlite3 DBAPI2 connectionother DBAPI2 objects are not tested, please consider using SQLAlchemy\n",
      "  warnings.warn(\n"
     ]
    }
   ],
   "source": [
    "sql = \"\"\"\n",
    "SELECT *\n",
    "FROM Prod_SabanaAnalitica\n",
    "\"\"\"\n",
    "\n",
    "sabana = pd.read_sql(sql,cnxn)\n"
   ]
  },
  {
   "cell_type": "markdown",
   "id": "d1c3bc8c",
   "metadata": {},
   "source": [
    "### la sabana tiene que contener todos los valores unicos de los ID de contrato y de los procesos de las tablas procesoContrato y MultaProcesoContrato"
   ]
  },
  {
   "cell_type": "code",
   "execution_count": 15,
   "id": "a134f5b4",
   "metadata": {},
   "outputs": [
    {
     "name": "stdout",
     "output_type": "stream",
     "text": [
      "Contratos unicos en ProcesoContrato: 20892\n",
      "Contratos unicos en la sabana analitica: 20892\n"
     ]
    }
   ],
   "source": [
    "contratosUnicos_ProcesoContrato= procesoContrato['Con_ID Contrato'].unique()\n",
    "contratosUnicos_SabanaAnalitica= sabana['Con_ID Contrato'].unique()\n",
    "\n",
    "print('Contratos unicos en ProcesoContrato:',len(contratosUnicos_ProcesoContrato))\n",
    "print('Contratos unicos en la sabana analitica:',len(contratosUnicos_SabanaAnalitica))"
   ]
  },
  {
   "cell_type": "markdown",
   "id": "aa7a8400",
   "metadata": {},
   "source": [
    "### la sabana tiene que contener todos los valores unicos de los ID de contrato y de los procesos de las tablas procesoContrato y MultaProcesoContrato"
   ]
  },
  {
   "cell_type": "code",
   "execution_count": 22,
   "id": "d22970a1",
   "metadata": {},
   "outputs": [
    {
     "name": "stdout",
     "output_type": "stream",
     "text": [
      "Contratos unicos en ProcesoContrato: 36986\n",
      "Contratos unicos en la sabana analitica: 36986\n"
     ]
    }
   ],
   "source": [
    "ProcesosUnicos_ProcesoContrato= procesoContrato['Pro_Referencia del Proceso'].unique()\n",
    "print('Contratos unicos en ProcesoContrato:',len(ProcesosUnicos_ProcesoContrato))\n",
    "\n",
    "ProcesosUnicos_SabanaAnalitica= sabana['Pro_Referencia del Proceso'].unique()\n",
    "print('Contratos unicos en la sabana analitica:',len(ProcesosUnicos_SabanaAnalitica))"
   ]
  }
 ],
 "metadata": {
  "kernelspec": {
   "display_name": "Python 3 (ipykernel)",
   "language": "python",
   "name": "python3"
  },
  "language_info": {
   "codemirror_mode": {
    "name": "ipython",
    "version": 3
   },
   "file_extension": ".py",
   "mimetype": "text/x-python",
   "name": "python",
   "nbconvert_exporter": "python",
   "pygments_lexer": "ipython3",
   "version": "3.9.7"
  }
 },
 "nbformat": 4,
 "nbformat_minor": 5
}
